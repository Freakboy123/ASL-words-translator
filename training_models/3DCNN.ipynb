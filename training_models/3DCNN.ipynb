{
 "cells": [
  {
   "cell_type": "code",
   "execution_count": null,
   "metadata": {},
   "outputs": [],
   "source": []
  }
 ],
 "metadata": {
  "kernelspec": {
   "display_name": "asl-converter",
   "language": "python",
   "name": "python3"
  },
  "language_info": {
   "name": "python",
   "version": "3.10.8"
  },
  "orig_nbformat": 4,
  "vscode": {
   "interpreter": {
    "hash": "ea8e115cd7ff4e8516dea43fa40bb0bb2a9dcb57bff31c2f0213b79cc5f4e83f"
   }
  }
 },
 "nbformat": 4,
 "nbformat_minor": 2
}
