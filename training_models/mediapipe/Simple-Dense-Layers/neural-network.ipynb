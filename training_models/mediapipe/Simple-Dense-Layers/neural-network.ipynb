{
 "cells": [
  {
   "cell_type": "code",
   "execution_count": 148,
   "metadata": {},
   "outputs": [],
   "source": [
    "import tensorflow as tf\n",
    "from tensorflow.keras.layers import Dense\n",
    "from tensorflow.keras import Sequential\n",
    "\n",
    "import numpy as np\n",
    "import pandas as pd"
   ]
  },
  {
   "cell_type": "code",
   "execution_count": 149,
   "metadata": {},
   "outputs": [
    {
     "name": "stdout",
     "output_type": "stream",
     "text": [
      "      class        x1        y1        z1        v1        x2        y2  \\\n",
      "0    coffee  0.490560  0.290803 -0.457349  0.999989  0.507861  0.251743   \n",
      "1    coffee  0.490317  0.296208 -0.467214  0.999987  0.507768  0.253555   \n",
      "2    coffee  0.490271  0.300322 -0.470750  0.999986  0.507730  0.255209   \n",
      "3    coffee  0.490268  0.302454 -0.487628  0.999985  0.507728  0.256161   \n",
      "4    coffee  0.490803  0.303688 -0.505418  0.999985  0.507995  0.256749   \n",
      "..      ...       ...       ...       ...       ...       ...       ...   \n",
      "110  coffee  0.496863  0.302861 -0.649061  0.999965  0.513863  0.255302   \n",
      "111  coffee  0.496631  0.301382 -0.643764  0.999955  0.513532  0.254744   \n",
      "112  coffee  0.496510  0.300023 -0.687388  0.999919  0.513147  0.254390   \n",
      "113  coffee  0.496565  0.299678 -0.744448  0.999876  0.513067  0.254359   \n",
      "114  coffee  0.496665  0.299629 -0.655965  0.999852  0.513007  0.254376   \n",
      "\n",
      "           z2        v2        x3  ...       z73  v73       x74       y74  \\\n",
      "0   -0.412709  0.999987  0.516950  ... -0.039968  0.0  0.496138  0.838479   \n",
      "1   -0.425430  0.999984  0.516758  ... -0.032240  0.0  0.499593  0.842492   \n",
      "2   -0.429952  0.999982  0.516656  ... -0.032046  0.0  0.501178  0.847488   \n",
      "3   -0.446110  0.999981  0.516634  ... -0.032033  0.0  0.500290  0.853992   \n",
      "4   -0.462483  0.999980  0.516718  ... -0.031262  0.0  0.500826  0.858976   \n",
      "..        ...       ...       ...  ...       ...  ...       ...       ...   \n",
      "110 -0.599471  0.999905  0.523044  ...  0.000000  0.0  0.000000  0.000000   \n",
      "111 -0.594247  0.999894  0.522931  ...  0.000000  0.0  0.000000  0.000000   \n",
      "112 -0.633070  0.999848  0.522765  ...  0.000000  0.0  0.000000  0.000000   \n",
      "113 -0.690254  0.999778  0.522710  ...  0.000000  0.0  0.000000  0.000000   \n",
      "114 -0.606255  0.999730  0.522649  ...  0.000000  0.0  0.000000  0.000000   \n",
      "\n",
      "          z74  v74       x75       y75       z75  v75  \n",
      "0   -0.032200  0.0  0.510814  0.841485 -0.026400  0.0  \n",
      "1   -0.023976  0.0  0.513295  0.845279 -0.018187  0.0  \n",
      "2   -0.023551  0.0  0.515599  0.849821 -0.017611  0.0  \n",
      "3   -0.023843  0.0  0.514286  0.856211 -0.018308  0.0  \n",
      "4   -0.022877  0.0  0.514729  0.861247 -0.017345  0.0  \n",
      "..        ...  ...       ...       ...       ...  ...  \n",
      "110  0.000000  0.0  0.000000  0.000000  0.000000  0.0  \n",
      "111  0.000000  0.0  0.000000  0.000000  0.000000  0.0  \n",
      "112  0.000000  0.0  0.000000  0.000000  0.000000  0.0  \n",
      "113  0.000000  0.0  0.000000  0.000000  0.000000  0.0  \n",
      "114  0.000000  0.0  0.000000  0.000000  0.000000  0.0  \n",
      "\n",
      "[115 rows x 301 columns]\n",
      "      class        x1        y1        z1        v1        x2        y2  \\\n",
      "0    coffee  0.515050  0.337479 -0.798418  0.999485  0.524108  0.302156   \n",
      "1    coffee  0.514914  0.337661 -0.793975  0.999504  0.524079  0.302088   \n",
      "2    coffee  0.514846  0.337965 -0.765427  0.999515  0.524072  0.302107   \n",
      "3    coffee  0.514829  0.337725 -0.752842  0.999517  0.524080  0.301461   \n",
      "4    coffee  0.514829  0.337339 -0.762397  0.999538  0.524121  0.300769   \n",
      "..      ...       ...       ...       ...       ...       ...       ...   \n",
      "128  coffee  0.521676  0.344556 -0.683892  0.999849  0.530007  0.306479   \n",
      "129  coffee  0.521711  0.342648 -0.677706  0.999824  0.529994  0.304427   \n",
      "130  coffee  0.521753  0.340865 -0.724294  0.999812  0.529988  0.302698   \n",
      "131  coffee  0.521865  0.340134 -0.748141  0.999800  0.529992  0.301843   \n",
      "132  coffee  0.521859  0.339480 -0.760473  0.999797  0.529952  0.301268   \n",
      "\n",
      "           z2        v2        x3  ...  z73  v73  x74  y74  z74  v74  x75  \\\n",
      "0   -0.776017  0.999213  0.530822  ...  0.0  0.0  0.0  0.0  0.0  0.0  0.0   \n",
      "1   -0.771250  0.999240  0.530775  ...  0.0  0.0  0.0  0.0  0.0  0.0  0.0   \n",
      "2   -0.741962  0.999251  0.530759  ...  0.0  0.0  0.0  0.0  0.0  0.0  0.0   \n",
      "3   -0.728369  0.999248  0.530767  ...  0.0  0.0  0.0  0.0  0.0  0.0  0.0   \n",
      "4   -0.738645  0.999275  0.530822  ...  0.0  0.0  0.0  0.0  0.0  0.0  0.0   \n",
      "..        ...       ...       ...  ...  ...  ...  ...  ...  ...  ...  ...   \n",
      "128 -0.654448  0.999747  0.537098  ...  0.0  0.0  0.0  0.0  0.0  0.0  0.0   \n",
      "129 -0.648444  0.999701  0.537077  ...  0.0  0.0  0.0  0.0  0.0  0.0  0.0   \n",
      "130 -0.696996  0.999678  0.537062  ...  0.0  0.0  0.0  0.0  0.0  0.0  0.0   \n",
      "131 -0.721926  0.999652  0.537061  ...  0.0  0.0  0.0  0.0  0.0  0.0  0.0   \n",
      "132 -0.734102  0.999645  0.537028  ...  0.0  0.0  0.0  0.0  0.0  0.0  0.0   \n",
      "\n",
      "     y75  z75  v75  \n",
      "0    0.0  0.0  0.0  \n",
      "1    0.0  0.0  0.0  \n",
      "2    0.0  0.0  0.0  \n",
      "3    0.0  0.0  0.0  \n",
      "4    0.0  0.0  0.0  \n",
      "..   ...  ...  ...  \n",
      "128  0.0  0.0  0.0  \n",
      "129  0.0  0.0  0.0  \n",
      "130  0.0  0.0  0.0  \n",
      "131  0.0  0.0  0.0  \n",
      "132  0.0  0.0  0.0  \n",
      "\n",
      "[133 rows x 301 columns]\n",
      "      class        x1        y1        z1        v1        x2        y2  \\\n",
      "0    coffee  0.490560  0.290803 -0.457349  0.999989  0.507861  0.251743   \n",
      "1    coffee  0.490317  0.296208 -0.467214  0.999987  0.507768  0.253555   \n",
      "2    coffee  0.490271  0.300322 -0.470750  0.999986  0.507730  0.255209   \n",
      "3    coffee  0.490268  0.302454 -0.487628  0.999985  0.507728  0.256161   \n",
      "4    coffee  0.490803  0.303688 -0.505418  0.999985  0.507995  0.256749   \n",
      "..      ...       ...       ...       ...       ...       ...       ...   \n",
      "128  coffee  0.521676  0.344556 -0.683892  0.999849  0.530007  0.306479   \n",
      "129  coffee  0.521711  0.342648 -0.677706  0.999824  0.529994  0.304427   \n",
      "130  coffee  0.521753  0.340865 -0.724294  0.999812  0.529988  0.302698   \n",
      "131  coffee  0.521865  0.340134 -0.748141  0.999800  0.529992  0.301843   \n",
      "132  coffee  0.521859  0.339480 -0.760473  0.999797  0.529952  0.301268   \n",
      "\n",
      "           z2        v2        x3  ...       z73  v73       x74       y74  \\\n",
      "0   -0.412709  0.999987  0.516950  ... -0.039968  0.0  0.496138  0.838479   \n",
      "1   -0.425430  0.999984  0.516758  ... -0.032240  0.0  0.499593  0.842492   \n",
      "2   -0.429952  0.999982  0.516656  ... -0.032046  0.0  0.501178  0.847488   \n",
      "3   -0.446110  0.999981  0.516634  ... -0.032033  0.0  0.500290  0.853992   \n",
      "4   -0.462483  0.999980  0.516718  ... -0.031262  0.0  0.500826  0.858976   \n",
      "..        ...       ...       ...  ...       ...  ...       ...       ...   \n",
      "128 -0.654448  0.999747  0.537098  ...  0.000000  0.0  0.000000  0.000000   \n",
      "129 -0.648444  0.999701  0.537077  ...  0.000000  0.0  0.000000  0.000000   \n",
      "130 -0.696996  0.999678  0.537062  ...  0.000000  0.0  0.000000  0.000000   \n",
      "131 -0.721926  0.999652  0.537061  ...  0.000000  0.0  0.000000  0.000000   \n",
      "132 -0.734102  0.999645  0.537028  ...  0.000000  0.0  0.000000  0.000000   \n",
      "\n",
      "          z74  v74       x75       y75       z75  v75  \n",
      "0   -0.032200  0.0  0.510814  0.841485 -0.026400  0.0  \n",
      "1   -0.023976  0.0  0.513295  0.845279 -0.018187  0.0  \n",
      "2   -0.023551  0.0  0.515599  0.849821 -0.017611  0.0  \n",
      "3   -0.023843  0.0  0.514286  0.856211 -0.018308  0.0  \n",
      "4   -0.022877  0.0  0.514729  0.861247 -0.017345  0.0  \n",
      "..        ...  ...       ...       ...       ...  ...  \n",
      "128  0.000000  0.0  0.000000  0.000000  0.000000  0.0  \n",
      "129  0.000000  0.0  0.000000  0.000000  0.000000  0.0  \n",
      "130  0.000000  0.0  0.000000  0.000000  0.000000  0.0  \n",
      "131  0.000000  0.0  0.000000  0.000000  0.000000  0.0  \n",
      "132  0.000000  0.0  0.000000  0.000000  0.000000  0.0  \n",
      "\n",
      "[248 rows x 301 columns]\n"
     ]
    }
   ],
   "source": [
    "#import the data ---> these lines are just testing.\n",
    "test = pd.read_csv(\"data_four_labels/coffee/_wijo648v0g3208.csv\")\n",
    "print(test)\n",
    "\n",
    "test2=pd.read_csv(\"data_four_labels/coffee/2sGQuduhAf41354.csv\")\n",
    "print(test2)\n",
    "\n",
    "final_df=pd.concat([test,test2])\n",
    "print(final_df)"
   ]
  },
  {
   "cell_type": "code",
   "execution_count": 150,
   "metadata": {},
   "outputs": [
    {
     "name": "stdout",
     "output_type": "stream",
     "text": [
      "     class        x1        y1        z1        v1        x2        y2  \\\n",
      "0   coffee  0.515050  0.337479 -0.798418  0.999485  0.524108  0.302156   \n",
      "1   coffee  0.514914  0.337661 -0.793975  0.999504  0.524079  0.302088   \n",
      "2   coffee  0.514846  0.337965 -0.765427  0.999515  0.524072  0.302107   \n",
      "3   coffee  0.514829  0.337725 -0.752842  0.999517  0.524080  0.301461   \n",
      "4   coffee  0.514829  0.337339 -0.762397  0.999538  0.524121  0.300769   \n",
      "..     ...       ...       ...       ...       ...       ...       ...   \n",
      "75    milk  0.497894  0.306149 -0.517604  0.999934  0.515566  0.259491   \n",
      "76    milk  0.497847  0.305891 -0.508041  0.999933  0.515531  0.259391   \n",
      "77    milk  0.497788  0.305599 -0.499464  0.999932  0.515466  0.259253   \n",
      "78    milk  0.497708  0.305279 -0.495048  0.999933  0.515386  0.259108   \n",
      "79    milk  0.497436  0.305055 -0.492145  0.999933  0.515184  0.258973   \n",
      "\n",
      "          z2        v2        x3  ...  z73  v73  x74  y74  z74  v74  x75  y75  \\\n",
      "0  -0.776017  0.999213  0.530822  ...  0.0  0.0  0.0  0.0  0.0  0.0  0.0  0.0   \n",
      "1  -0.771250  0.999240  0.530775  ...  0.0  0.0  0.0  0.0  0.0  0.0  0.0  0.0   \n",
      "2  -0.741962  0.999251  0.530759  ...  0.0  0.0  0.0  0.0  0.0  0.0  0.0  0.0   \n",
      "3  -0.728369  0.999248  0.530767  ...  0.0  0.0  0.0  0.0  0.0  0.0  0.0  0.0   \n",
      "4  -0.738645  0.999275  0.530822  ...  0.0  0.0  0.0  0.0  0.0  0.0  0.0  0.0   \n",
      "..       ...       ...       ...  ...  ...  ...  ...  ...  ...  ...  ...  ...   \n",
      "75 -0.484481  0.999870  0.526420  ...  0.0  0.0  0.0  0.0  0.0  0.0  0.0  0.0   \n",
      "76 -0.473689  0.999870  0.526399  ...  0.0  0.0  0.0  0.0  0.0  0.0  0.0  0.0   \n",
      "77 -0.464760  0.999870  0.526358  ...  0.0  0.0  0.0  0.0  0.0  0.0  0.0  0.0   \n",
      "78 -0.460512  0.999872  0.526302  ...  0.0  0.0  0.0  0.0  0.0  0.0  0.0  0.0   \n",
      "79 -0.458362  0.999873  0.526164  ...  0.0  0.0  0.0  0.0  0.0  0.0  0.0  0.0   \n",
      "\n",
      "    z75  v75  \n",
      "0   0.0  0.0  \n",
      "1   0.0  0.0  \n",
      "2   0.0  0.0  \n",
      "3   0.0  0.0  \n",
      "4   0.0  0.0  \n",
      "..  ...  ...  \n",
      "75  0.0  0.0  \n",
      "76  0.0  0.0  \n",
      "77  0.0  0.0  \n",
      "78  0.0  0.0  \n",
      "79  0.0  0.0  \n",
      "\n",
      "[13443 rows x 301 columns]\n"
     ]
    }
   ],
   "source": [
    "import glob\n",
    "\n",
    "df = pd.DataFrame()\n",
    "names = [\"coffee\", \"dog\", \"door\", \"milk\"]\n",
    "for label in names:\n",
    "    files = glob.glob(f\"data_four_labels/{label}/*.csv\")\n",
    "    for f in files:\n",
    "        csv = pd.read_csv(f)\n",
    "        df = pd.concat([df, csv])\n",
    "\n",
    "print(df)"
   ]
  },
  {
   "attachments": {},
   "cell_type": "markdown",
   "metadata": {},
   "source": [
    "#### separating the features from the labels (just some testing, not actually used)"
   ]
  },
  {
   "cell_type": "code",
   "execution_count": 151,
   "metadata": {},
   "outputs": [
    {
     "name": "stdout",
     "output_type": "stream",
     "text": [
      "(13443, 300)\n",
      "(13443,)\n"
     ]
    },
    {
     "data": {
      "text/plain": [
       "0    coffee\n",
       "1    coffee\n",
       "2    coffee\n",
       "3    coffee\n",
       "4    coffee\n",
       "Name: class, dtype: object"
      ]
     },
     "execution_count": 151,
     "metadata": {},
     "output_type": "execute_result"
    }
   ],
   "source": [
    "df_features = df.copy()\n",
    "\n",
    "df_labels = df_features.pop(\"class\")\n",
    "\n",
    "df_features = np.array(df_features)\n",
    "\n",
    "print(df_features.shape)\n",
    "print(df_labels.shape)\n",
    "df_labels.head()"
   ]
  },
  {
   "attachments": {},
   "cell_type": "markdown",
   "metadata": {},
   "source": [
    "I\"ll also remap every string to an int\n",
    "per example, \n",
    "through a dictionary"
   ]
  },
  {
   "cell_type": "code",
   "execution_count": 152,
   "metadata": {},
   "outputs": [
    {
     "data": {
      "text/plain": [
       "0    0\n",
       "1    0\n",
       "2    0\n",
       "3    0\n",
       "4    0\n",
       "Name: class, dtype: int64"
      ]
     },
     "execution_count": 152,
     "metadata": {},
     "output_type": "execute_result"
    }
   ],
   "source": [
    "#should be between 0 and 3\n",
    "dicti={\"coffee\": 0, \"dog\": 1, \"door\": 2, \"milk\": 3}\n",
    "# for element in df_labels:\n",
    "#     element = dicti[element]\n",
    "\n",
    "def change_label(x):\n",
    "    return dicti[x]\n",
    "\n",
    "df_labels = df_labels.apply(change_label)\n",
    "df_labels.head()\n",
    "\n"
   ]
  },
  {
   "cell_type": "code",
   "execution_count": 153,
   "metadata": {},
   "outputs": [
    {
     "name": "stdout",
     "output_type": "stream",
     "text": [
      "(13443, 1)\n"
     ]
    }
   ],
   "source": [
    "#I have to make each label a single vector \n",
    "# I can just rotate (transpose, since now I have a single rolumn, I will make it into many rows)! \n",
    "df_labels = np.array([df_labels]).T\n",
    "\n",
    "print(df_labels.shape)"
   ]
  },
  {
   "attachments": {},
   "cell_type": "markdown",
   "metadata": {},
   "source": [
    "#### train_test_split\n",
    "\n",
    "##### I'll split into train and val, and then tensorflow will split for me in train and test"
   ]
  },
  {
   "cell_type": "code",
   "execution_count": 154,
   "metadata": {},
   "outputs": [
    {
     "name": "stdout",
     "output_type": "stream",
     "text": [
      "(10754, 300)\n",
      "[[ 0.62516278  0.31280386 -0.57702363 ...  0.37486142 -0.03240779\n",
      "   0.        ]\n",
      " [ 0.5000419   0.43496644 -0.4292005  ...  0.          0.\n",
      "   0.        ]\n",
      " [ 0.48610997  0.27184641 -0.47398481 ...  0.85514456 -0.04888245\n",
      "   0.        ]\n",
      " ...\n",
      " [ 0.32949692  0.29826134 -0.80669653 ...  0.          0.\n",
      "   0.        ]\n",
      " [ 0.51242888  0.34741375 -0.45631069 ...  0.67133045 -0.0255616\n",
      "   0.        ]\n",
      " [ 0.32880014  0.29038998 -0.72144747 ...  0.          0.\n",
      "   0.        ]]\n",
      "(10754, 1)\n",
      "[[2]\n",
      " [3]\n",
      " [0]\n",
      " ...\n",
      " [1]\n",
      " [3]\n",
      " [1]]\n"
     ]
    }
   ],
   "source": [
    "from sklearn.model_selection import train_test_split\n",
    "\n",
    "\n",
    "X_train, X_val, y_train, y_val = train_test_split(df_features, df_labels, test_size=0.2)\n",
    "\n",
    "print(X_train.shape)\n",
    "print(X_train)\n",
    "print(y_train.shape)\n",
    "print(y_train)"
   ]
  },
  {
   "attachments": {},
   "cell_type": "markdown",
   "metadata": {},
   "source": [
    "## creating the model"
   ]
  },
  {
   "cell_type": "code",
   "execution_count": 155,
   "metadata": {},
   "outputs": [],
   "source": [
    "model = Sequential([\n",
    "    Dense(units=256, activation='relu'),\n",
    "    Dense(units=64, activation='relu'),\n",
    "    Dense(units=4, activation='softmax')\n",
    "])"
   ]
  },
  {
   "cell_type": "code",
   "execution_count": 156,
   "metadata": {},
   "outputs": [],
   "source": [
    "#cost function\n",
    "from tensorflow.keras.losses import SparseCategoricalCrossentropy\n",
    "from tensorflow.keras.optimizers import Adam\n",
    "\n",
    "model.compile(loss=SparseCategoricalCrossentropy(), optimizer=Adam(), metrics=[\"accuracy\"])\n"
   ]
  },
  {
   "cell_type": "code",
   "execution_count": 157,
   "metadata": {},
   "outputs": [
    {
     "name": "stdout",
     "output_type": "stream",
     "text": [
      "Epoch 1/10\n",
      "303/303 [==============================] - 3s 5ms/step - loss: 0.8560 - accuracy: 0.6355 - val_loss: 0.7181 - val_accuracy: 0.7221\n",
      "Epoch 2/10\n",
      "303/303 [==============================] - 1s 4ms/step - loss: 0.6536 - accuracy: 0.7348 - val_loss: 0.6282 - val_accuracy: 0.7779\n",
      "Epoch 3/10\n",
      "303/303 [==============================] - 1s 3ms/step - loss: 0.5665 - accuracy: 0.7746 - val_loss: 0.5710 - val_accuracy: 0.7751\n",
      "Epoch 4/10\n",
      "303/303 [==============================] - 1s 4ms/step - loss: 0.4916 - accuracy: 0.8057 - val_loss: 0.4769 - val_accuracy: 0.8160\n",
      "Epoch 5/10\n",
      "303/303 [==============================] - 1s 4ms/step - loss: 0.4273 - accuracy: 0.8321 - val_loss: 0.4522 - val_accuracy: 0.8216\n",
      "Epoch 6/10\n",
      "303/303 [==============================] - 1s 4ms/step - loss: 0.4011 - accuracy: 0.8414 - val_loss: 0.3965 - val_accuracy: 0.8476\n",
      "Epoch 7/10\n",
      "303/303 [==============================] - 1s 3ms/step - loss: 0.3607 - accuracy: 0.8583 - val_loss: 0.3321 - val_accuracy: 0.8708\n",
      "Epoch 8/10\n",
      "303/303 [==============================] - 1s 3ms/step - loss: 0.3350 - accuracy: 0.8673 - val_loss: 0.4160 - val_accuracy: 0.8374\n",
      "Epoch 9/10\n",
      "303/303 [==============================] - 1s 3ms/step - loss: 0.3181 - accuracy: 0.8731 - val_loss: 0.3194 - val_accuracy: 0.8783\n",
      "Epoch 10/10\n",
      "303/303 [==============================] - 1s 4ms/step - loss: 0.2832 - accuracy: 0.8868 - val_loss: 0.2673 - val_accuracy: 0.8996\n"
     ]
    },
    {
     "data": {
      "text/plain": [
       "<keras.callbacks.History at 0x22eb55bd520>"
      ]
     },
     "execution_count": 157,
     "metadata": {},
     "output_type": "execute_result"
    }
   ],
   "source": [
    "#fitting\n",
    "model.fit(X_train,y_train, epochs=10, validation_split=0.1)"
   ]
  },
  {
   "cell_type": "code",
   "execution_count": 160,
   "metadata": {},
   "outputs": [
    {
     "name": "stdout",
     "output_type": "stream",
     "text": [
      "85/85 [==============================] - 0s 3ms/step - loss: 0.2678 - accuracy: 0.9093\n",
      "Model: \"sequential_8\"\n",
      "_________________________________________________________________\n",
      " Layer (type)                Output Shape              Param #   \n",
      "=================================================================\n",
      " dense_26 (Dense)            (None, 256)               77056     \n",
      "                                                                 \n",
      " dense_27 (Dense)            (None, 64)                16448     \n",
      "                                                                 \n",
      " dense_28 (Dense)            (None, 4)                 260       \n",
      "                                                                 \n",
      "=================================================================\n",
      "Total params: 93,764\n",
      "Trainable params: 93,764\n",
      "Non-trainable params: 0\n",
      "_________________________________________________________________\n"
     ]
    }
   ],
   "source": [
    "model.evaluate(X_val,y_val)\n",
    "model.summary()"
   ]
  },
  {
   "attachments": {},
   "cell_type": "markdown",
   "metadata": {},
   "source": [
    "## save the model"
   ]
  },
  {
   "cell_type": "code",
   "execution_count": 162,
   "metadata": {},
   "outputs": [
    {
     "name": "stderr",
     "output_type": "stream",
     "text": [
      "WARNING:absl:Found untraced functions such as _update_step_xla while saving (showing 1 of 1). These functions will not be directly callable after loading.\n"
     ]
    },
    {
     "name": "stdout",
     "output_type": "stream",
     "text": [
      "INFO:tensorflow:Assets written to: saved_model\\assets\n"
     ]
    },
    {
     "name": "stderr",
     "output_type": "stream",
     "text": [
      "INFO:tensorflow:Assets written to: saved_model\\assets\n"
     ]
    }
   ],
   "source": [
    "model.save(\"saved_model\")"
   ]
  }
 ],
 "metadata": {
  "kernelspec": {
   "display_name": "env",
   "language": "python",
   "name": "python3"
  },
  "language_info": {
   "codemirror_mode": {
    "name": "ipython",
    "version": 3
   },
   "file_extension": ".py",
   "mimetype": "text/x-python",
   "name": "python",
   "nbconvert_exporter": "python",
   "pygments_lexer": "ipython3",
   "version": "3.9.9"
  },
  "orig_nbformat": 4
 },
 "nbformat": 4,
 "nbformat_minor": 2
}
