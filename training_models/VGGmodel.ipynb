{
 "cells": [
  {
   "attachments": {},
   "cell_type": "markdown",
   "metadata": {},
   "source": [
    "Test 1 - Using VGG with last embedded layer and Random Forest at the end"
   ]
  },
  {
   "cell_type": "code",
   "execution_count": 1,
   "metadata": {},
   "outputs": [],
   "source": [
    "import os\n",
    "os.environ[\"CUDA_VISIBLE_DEVICES\"] = \"-1\""
   ]
  },
  {
   "cell_type": "code",
   "execution_count": 2,
   "metadata": {},
   "outputs": [],
   "source": [
    "import tensorflow as tf\n",
    "import numpy as np"
   ]
  },
  {
   "cell_type": "code",
   "execution_count": 3,
   "metadata": {},
   "outputs": [
    {
     "name": "stdout",
     "output_type": "stream",
     "text": [
      "Num GPUs Available:  0\n"
     ]
    }
   ],
   "source": [
    "print(\"Num GPUs Available: \", len(tf.config.list_physical_devices('GPU')))"
   ]
  },
  {
   "cell_type": "code",
   "execution_count": 9,
   "metadata": {},
   "outputs": [
    {
     "data": {
      "text/plain": [
       "'2.10.1'"
      ]
     },
     "execution_count": 9,
     "metadata": {},
     "output_type": "execute_result"
    }
   ],
   "source": [
    "tf.__version__"
   ]
  },
  {
   "cell_type": "code",
   "execution_count": 46,
   "metadata": {},
   "outputs": [
    {
     "data": {
      "text/plain": [
       "['afraid',\n",
       " 'afternoon',\n",
       " 'again',\n",
       " 'all',\n",
       " 'apple',\n",
       " 'aunt',\n",
       " 'bad',\n",
       " 'bathroom',\n",
       " 'beautiful',\n",
       " 'black',\n",
       " 'blue',\n",
       " 'book',\n",
       " 'born',\n",
       " 'boy',\n",
       " 'boyfriend',\n",
       " 'bread',\n",
       " 'brother',\n",
       " 'brown',\n",
       " 'bus',\n",
       " 'bye',\n",
       " 'cat',\n",
       " 'cheese',\n",
       " 'chicken',\n",
       " 'children',\n",
       " 'church',\n",
       " 'class',\n",
       " 'clothes',\n",
       " 'coffee',\n",
       " 'college',\n",
       " 'color',\n",
       " 'computer',\n",
       " 'cook',\n",
       " 'cousin',\n",
       " 'cup',\n",
       " 'dance',\n",
       " 'daughter',\n",
       " 'day',\n",
       " 'deaf',\n",
       " 'die',\n",
       " 'doctor',\n",
       " 'dog',\n",
       " 'door',\n",
       " 'draw',\n",
       " 'drink',\n",
       " 'eat',\n",
       " 'egg',\n",
       " 'english',\n",
       " 'family',\n",
       " 'father',\n",
       " 'fine',\n",
       " 'finish',\n",
       " 'fish',\n",
       " 'forget',\n",
       " 'france',\n",
       " 'friend',\n",
       " 'friendly',\n",
       " 'girl',\n",
       " 'gold',\n",
       " 'good',\n",
       " 'grandfather',\n",
       " 'grandmother',\n",
       " 'green',\n",
       " 'hair',\n",
       " 'happy',\n",
       " 'hat',\n",
       " 'have',\n",
       " 'hearing',\n",
       " 'hello',\n",
       " 'help',\n",
       " 'here',\n",
       " 'home',\n",
       " 'horse',\n",
       " 'how',\n",
       " 'how_many',\n",
       " 'hungry',\n",
       " 'hurt',\n",
       " 'husband',\n",
       " 'jacket',\n",
       " 'kitchen',\n",
       " 'know',\n",
       " 'late',\n",
       " 'learn',\n",
       " 'light',\n",
       " 'like',\n",
       " 'live',\n",
       " 'lost',\n",
       " 'love',\n",
       " 'lunch',\n",
       " 'mad',\n",
       " 'man',\n",
       " 'marry',\n",
       " 'me',\n",
       " 'meet',\n",
       " 'milk',\n",
       " 'morning',\n",
       " 'mother',\n",
       " 'my',\n",
       " 'name',\n",
       " 'nephew',\n",
       " 'nice',\n",
       " 'niece',\n",
       " 'night',\n",
       " 'no',\n",
       " 'not',\n",
       " 'not know',\n",
       " 'nothing',\n",
       " 'now',\n",
       " 'nurse',\n",
       " 'old',\n",
       " 'one',\n",
       " 'orange',\n",
       " 'pants',\n",
       " 'paper',\n",
       " 'pencil',\n",
       " 'pink',\n",
       " 'play',\n",
       " 'please',\n",
       " 'purple',\n",
       " 'read',\n",
       " 'red',\n",
       " 'room',\n",
       " 'sad',\n",
       " 'salad',\n",
       " 'same',\n",
       " 'school',\n",
       " 'see',\n",
       " 'shirt',\n",
       " 'shoes',\n",
       " 'shower',\n",
       " 'sick',\n",
       " 'sign',\n",
       " 'sister',\n",
       " 'sit',\n",
       " 'slow',\n",
       " 'some',\n",
       " 'son',\n",
       " 'spring',\n",
       " 'student',\n",
       " 'sunday',\n",
       " 'table',\n",
       " 'teach',\n",
       " 'teacher',\n",
       " 'ten',\n",
       " 'thank you',\n",
       " 'thursday',\n",
       " 'time',\n",
       " 'tired',\n",
       " 'tomorrow',\n",
       " 'turkey',\n",
       " 'twenty',\n",
       " 'two',\n",
       " 'uncle',\n",
       " 'understand',\n",
       " 'vacation',\n",
       " 'walk',\n",
       " 'want',\n",
       " 'watch',\n",
       " 'water',\n",
       " 'wednesday',\n",
       " 'what',\n",
       " 'when',\n",
       " 'where',\n",
       " 'white',\n",
       " 'who',\n",
       " 'wife',\n",
       " 'woman',\n",
       " 'work',\n",
       " 'write',\n",
       " 'year',\n",
       " 'yellow',\n",
       " 'yes',\n",
       " 'yesterday',\n",
       " 'you',\n",
       " 'your']"
      ]
     },
     "execution_count": 46,
     "metadata": {},
     "output_type": "execute_result"
    }
   ],
   "source": [
    "# Analyze + process data\n",
    "#Filter by number of entries\n",
    "train_dir = \"C:/Users/malik/Desktop/ASL-Aly/ASL-words-translator/IMAGE_vision/train_data\"\n",
    "\n",
    "saved_classes = []\n",
    "\n",
    "for folder in os.listdir(train_dir):\n",
    "    if len(os.listdir(os.path.join(train_dir, folder))) >= 15:\n",
    "        saved_classes.append(folder)\n",
    "        \n",
    "    # for file in os.walk(os.path.join(train_dir, dirnames)):\n",
    "    #     print(file)\n",
    "(saved_classes)"
   ]
  },
  {
   "cell_type": "code",
   "execution_count": 62,
   "metadata": {},
   "outputs": [
    {
     "name": "stdout",
     "output_type": "stream",
     "text": [
      "24\n"
     ]
    }
   ],
   "source": [
    "# Filter by frames\n",
    "new_saved = []\n",
    "for label in saved_classes:\n",
    "    dir = os.path.join(train_dir, label)\n",
    "    for file in os.listdir(dir):\n",
    "        arr = np.load(os.path.join(train_dir, label, file))\n",
    "        if len(arr) < 2:\n",
    "            break\n",
    "        elif os.listdir(dir)[-1] == file:\n",
    "            new_saved.append(label)\n",
    "\n",
    "print(len(new_saved))"
   ]
  },
  {
   "cell_type": "code",
   "execution_count": 64,
   "metadata": {},
   "outputs": [
    {
     "data": {
      "text/plain": [
       "['apple',\n",
       " 'cheese',\n",
       " 'chicken',\n",
       " 'church',\n",
       " 'coffee',\n",
       " 'college',\n",
       " 'cook',\n",
       " 'daughter',\n",
       " 'dog',\n",
       " 'door',\n",
       " 'friendly',\n",
       " 'grandmother',\n",
       " 'home',\n",
       " 'hungry',\n",
       " 'milk',\n",
       " 'not know',\n",
       " 'shoes',\n",
       " 'thursday',\n",
       " 'time',\n",
       " 'tomorrow',\n",
       " 'uncle',\n",
       " 'vacation',\n",
       " 'woman',\n",
       " 'your']"
      ]
     },
     "execution_count": 64,
     "metadata": {},
     "output_type": "execute_result"
    }
   ],
   "source": [
    "# Data with at least 15 entries, each having at least 2 frames\n",
    "new_saved "
   ]
  },
  {
   "cell_type": "code",
   "execution_count": 91,
   "metadata": {},
   "outputs": [
    {
     "name": "stdout",
     "output_type": "stream",
     "text": [
      "apple\n",
      "cheese\n",
      "chicken\n",
      "church\n",
      "coffee\n",
      "college\n",
      "cook\n",
      "daughter\n",
      "dog\n",
      "door\n",
      "friendly\n",
      "grandmother\n",
      "home\n",
      "hungry\n",
      "milk\n",
      "not know\n",
      "shoes\n",
      "thursday\n",
      "time\n",
      "tomorrow\n",
      "uncle\n",
      "vacation\n",
      "woman\n",
      "your\n",
      "(1404, 256, 256, 3) (1404,)\n"
     ]
    }
   ],
   "source": [
    "# Add each video into one collective Numpy Array, containing frames (3D objects)\n",
    "\n",
    "X = []\n",
    "Y = []\n",
    "for label in new_saved:\n",
    "    print(label)\n",
    "    dir = os.path.join(train_dir, label)\n",
    "    for file in os.listdir(dir):\n",
    "        arr = np.load(os.path.join(train_dir, label, file))\n",
    "        for frame in arr:\n",
    "            if len(X) == 0:\n",
    "                X = np.array([frame])\n",
    "                Y = np.array([new_saved.index(label)])\n",
    "            else:\n",
    "                X = np.append(X, np.array([frame]), axis=0)\n",
    "                Y = np.append(Y, np.array([new_saved.index(label)]), axis=0)\n",
    "\n",
    "print(X.shape, Y.shape)"
   ]
  },
  {
   "cell_type": "code",
   "execution_count": 3,
   "metadata": {},
   "outputs": [
    {
     "ename": "NameError",
     "evalue": "name 'X' is not defined",
     "output_type": "error",
     "traceback": [
      "\u001b[1;31m---------------------------------------------------------------------------\u001b[0m",
      "\u001b[1;31mNameError\u001b[0m                                 Traceback (most recent call last)",
      "Cell \u001b[1;32mIn[3], line 1\u001b[0m\n\u001b[1;32m----> 1\u001b[0m np\u001b[39m.\u001b[39msave(\u001b[39m\"\u001b[39m\u001b[39mC:/Users/malik/Desktop/ASL-Aly/ASL-words-translator/IMAGE_vision/X\u001b[39m\u001b[39m\"\u001b[39m, np\u001b[39m.\u001b[39masarray(X, dtype\u001b[39m=\u001b[39mnp\u001b[39m.\u001b[39mfloat32), allow_pickle\u001b[39m=\u001b[39m\u001b[39mTrue\u001b[39;00m, fix_imports\u001b[39m=\u001b[39m\u001b[39mTrue\u001b[39;00m)\n\u001b[0;32m      2\u001b[0m np\u001b[39m.\u001b[39msave(\u001b[39m\"\u001b[39m\u001b[39mC:/Users/malik/Desktop/ASL-Aly/ASL-words-translator/IMAGE_vision/Y\u001b[39m\u001b[39m\"\u001b[39m, np\u001b[39m.\u001b[39masarray(Y, dtype\u001b[39m=\u001b[39mnp\u001b[39m.\u001b[39mfloat32), allow_pickle\u001b[39m=\u001b[39m\u001b[39mTrue\u001b[39;00m, fix_imports\u001b[39m=\u001b[39m\u001b[39mTrue\u001b[39;00m)\n",
      "\u001b[1;31mNameError\u001b[0m: name 'X' is not defined"
     ]
    }
   ],
   "source": [
    "np.save(\"C:/Users/malik/Desktop/ASL-Aly/ASL-words-translator/IMAGE_vision/X\", np.asarray(X, dtype=np.float32), allow_pickle=True, fix_imports=True)\n",
    "np.save(\"C:/Users/malik/Desktop/ASL-Aly/ASL-words-translator/IMAGE_vision/Y\", np.asarray(Y, dtype=np.float32), allow_pickle=True, fix_imports=True)"
   ]
  },
  {
   "cell_type": "code",
   "execution_count": 93,
   "metadata": {},
   "outputs": [],
   "source": [
    "new_saved = ['apple',\n",
    " 'cheese',\n",
    " 'chicken',\n",
    " 'church',\n",
    " 'coffee',\n",
    " 'college',\n",
    " 'cook',\n",
    " 'daughter',\n",
    " 'dog',\n",
    " 'door',\n",
    " 'friendly',\n",
    " 'grandmother',\n",
    " 'home',\n",
    " 'hungry',\n",
    " 'milk',\n",
    " 'not know',\n",
    " 'shoes',\n",
    " 'thursday',\n",
    " 'time',\n",
    " 'tomorrow',\n",
    " 'uncle',\n",
    " 'vacation',\n",
    " 'woman',\n",
    " 'your']"
   ]
  },
  {
   "cell_type": "code",
   "execution_count": 4,
   "metadata": {},
   "outputs": [
    {
     "data": {
      "text/plain": [
       "((1404, 256, 256, 3), (1404,))"
      ]
     },
     "execution_count": 4,
     "metadata": {},
     "output_type": "execute_result"
    }
   ],
   "source": [
    "X = np.load(\"C:/Users/malik/Desktop/ASL-Aly/ASL-words-translator/IMAGE_vision/X.npy\")\n",
    "Y = np.load(\"C:/Users/malik/Desktop/ASL-Aly/ASL-words-translator/IMAGE_vision/Y.npy\")\n",
    "X.shape, Y.shape"
   ]
  },
  {
   "cell_type": "code",
   "execution_count": 5,
   "metadata": {},
   "outputs": [],
   "source": [
    "import sklearn\n",
    "from sklearn.model_selection import train_test_split\n",
    "X_train, X_test, y_train, y_test = train_test_split(X, Y, test_size=0.2, random_state=42)\n"
   ]
  },
  {
   "cell_type": "code",
   "execution_count": 6,
   "metadata": {},
   "outputs": [],
   "source": [
    "from tensorflow.keras.utils import Sequence\n",
    "import numpy as np   \n",
    "\n",
    "class DataGenerator(Sequence):\n",
    "    def __init__(self, x_set, y_set, batch_size):\n",
    "        self.x, self.y = x_set, y_set\n",
    "        self.batch_size = batch_size\n",
    "\n",
    "    def __len__(self):\n",
    "        return int(np.ceil(len(self.x) / float(self.batch_size)))\n",
    "\n",
    "    def __getitem__(self, idx):\n",
    "        batch_x = self.x[idx * self.batch_size:(idx + 1) * self.batch_size]\n",
    "        batch_y = self.y[idx * self.batch_size:(idx + 1) * self.batch_size]\n",
    "        return batch_x, batch_y\n",
    "\n",
    "train_gen = DataGenerator(X_train, y_train, 32)\n",
    "test_gen = DataGenerator(X_test, y_test, 32)"
   ]
  },
  {
   "cell_type": "code",
   "execution_count": 7,
   "metadata": {},
   "outputs": [
    {
     "name": "stdout",
     "output_type": "stream",
     "text": [
      "Model: \"vgg16\"\n",
      "_________________________________________________________________\n",
      " Layer (type)                Output Shape              Param #   \n",
      "=================================================================\n",
      " input_1 (InputLayer)        [(None, 256, 256, 3)]     0         \n",
      "                                                                 \n",
      " block1_conv1 (Conv2D)       (None, 256, 256, 64)      1792      \n",
      "                                                                 \n",
      " block1_conv2 (Conv2D)       (None, 256, 256, 64)      36928     \n",
      "                                                                 \n",
      " block1_pool (MaxPooling2D)  (None, 128, 128, 64)      0         \n",
      "                                                                 \n",
      " block2_conv1 (Conv2D)       (None, 128, 128, 128)     73856     \n",
      "                                                                 \n",
      " block2_conv2 (Conv2D)       (None, 128, 128, 128)     147584    \n",
      "                                                                 \n",
      " block2_pool (MaxPooling2D)  (None, 64, 64, 128)       0         \n",
      "                                                                 \n",
      " block3_conv1 (Conv2D)       (None, 64, 64, 256)       295168    \n",
      "                                                                 \n",
      " block3_conv2 (Conv2D)       (None, 64, 64, 256)       590080    \n",
      "                                                                 \n",
      " block3_conv3 (Conv2D)       (None, 64, 64, 256)       590080    \n",
      "                                                                 \n",
      " block3_pool (MaxPooling2D)  (None, 32, 32, 256)       0         \n",
      "                                                                 \n",
      " block4_conv1 (Conv2D)       (None, 32, 32, 512)       1180160   \n",
      "                                                                 \n",
      " block4_conv2 (Conv2D)       (None, 32, 32, 512)       2359808   \n",
      "                                                                 \n",
      " block4_conv3 (Conv2D)       (None, 32, 32, 512)       2359808   \n",
      "                                                                 \n",
      " block4_pool (MaxPooling2D)  (None, 16, 16, 512)       0         \n",
      "                                                                 \n",
      " block5_conv1 (Conv2D)       (None, 16, 16, 512)       2359808   \n",
      "                                                                 \n",
      " block5_conv2 (Conv2D)       (None, 16, 16, 512)       2359808   \n",
      "                                                                 \n",
      " block5_conv3 (Conv2D)       (None, 16, 16, 512)       2359808   \n",
      "                                                                 \n",
      " block5_pool (MaxPooling2D)  (None, 8, 8, 512)         0         \n",
      "                                                                 \n",
      "=================================================================\n",
      "Total params: 14,714,688\n",
      "Trainable params: 0\n",
      "Non-trainable params: 14,714,688\n",
      "_________________________________________________________________\n"
     ]
    }
   ],
   "source": [
    "import tensorflow as tf\n",
    "from tensorflow.keras.applications.vgg16 import VGG16\n",
    "\n",
    "vgg_model = VGG16(weights='imagenet', input_shape=(256, 256, 3), include_top=False)\n",
    "vgg_model.trainable = False\n",
    "vgg_model.summary()"
   ]
  },
  {
   "cell_type": "code",
   "execution_count": 8,
   "metadata": {},
   "outputs": [],
   "source": [
    "from tensorflow.keras.layers import Dense, Flatten\n",
    "from tensorflow.keras.models import Model\n",
    "\n",
    "x = vgg_model.get_layer('block5_pool').output\n",
    "x = Flatten(name='flatten')(x)\n",
    "# fc1 = Dense(4096, activation='relu')(x)\n",
    "# fc2 = Dense(4096, activation='relu')(fc1)\n",
    "output = Dense(24, activation='softmax')(x)\n",
    "\n",
    "vgg_model = Model(vgg_model.input, output)"
   ]
  },
  {
   "cell_type": "code",
   "execution_count": 9,
   "metadata": {},
   "outputs": [],
   "source": [
    "gpus = tf.config.list_physical_devices('GPU')\n",
    "if gpus:\n",
    "  # Restrict TensorFlow to only use the first GPU\n",
    "  try:\n",
    "    tf.config.set_visible_devices(gpus[0], 'GPU')\n",
    "    logical_gpus = tf.config.list_logical_devices('GPU')\n",
    "    print(len(gpus), \"Physical GPUs,\", len(logical_gpus), \"Logical GPU\")\n",
    "  except RuntimeError as e:\n",
    "    # Visible devices must be set before GPUs have been initialized\n",
    "    print(e)"
   ]
  },
  {
   "cell_type": "code",
   "execution_count": 9,
   "metadata": {},
   "outputs": [
    {
     "name": "stdout",
     "output_type": "stream",
     "text": [
      "Virtual devices cannot be modified after being initialized\n"
     ]
    }
   ],
   "source": [
    "gpus = tf.config.experimental.list_physical_devices(\"GPU\")\n",
    "if gpus:\n",
    "  # Restrict TensorFlow to only allocate 1GB of memory on the first GPU\n",
    "  try:\n",
    "    tf.config.experimental.set_virtual_device_configuration(gpus[0],\n",
    "    [tf.config.experimental.VirtualDeviceConfiguration(memory_limit=2048)])\n",
    "    logical_gpus = tf.config.experimental.list_logical_devices(\"GPU\")\n",
    "    print(len(gpus), \"Physical GPUs,\", len(logical_gpus), \"Logical GPUs\")\n",
    "  except RuntimeError as e:\n",
    "  # Virtual devices must be set before GPUs have been initialized\n",
    "    print(e)"
   ]
  },
  {
   "cell_type": "code",
   "execution_count": 10,
   "metadata": {},
   "outputs": [
    {
     "name": "stdout",
     "output_type": "stream",
     "text": [
      "Device mapping:\n",
      "/job:localhost/replica:0/task:0/device:GPU:0 -> device: 0, name: NVIDIA GeForce GTX 1660 SUPER, pci bus id: 0000:06:00.0, compute capability: 7.5\n",
      "\n"
     ]
    }
   ],
   "source": [
    "gpu_options = tf.compat.v1.GPUOptions(per_process_gpu_memory_fraction=0.333) \n",
    "sess = tf.compat.v1.Session(config=tf.compat.v1.ConfigProto(log_device_placement=True, gpu_options=gpu_options))"
   ]
  },
  {
   "cell_type": "code",
   "execution_count": 11,
   "metadata": {},
   "outputs": [],
   "source": [
    "checkpoint = tf.keras.callbacks.ModelCheckpoint(\n",
    "    \"C:/Users/malik/Desktop/ASL-Aly/ASL-words-translator/training_models/weights.{epoch:02d}-{val_loss:.2f}\",\n",
    "    monitor='val_loss',\n",
    "    verbose=0,\n",
    "    save_best_only=True,\n",
    "    save_weights_only=False,\n",
    "    mode='auto',\n",
    "    save_freq='epoch',\n",
    ")"
   ]
  },
  {
   "cell_type": "code",
   "execution_count": 12,
   "metadata": {},
   "outputs": [
    {
     "ename": "TypeError",
     "evalue": "Invalid keyword argument(s) in `compile()`: ({'callbacks'},). Valid keyword arguments include \"cloning\", \"experimental_run_tf_function\", \"distribute\", \"target_tensors\", or \"sample_weight_mode\".",
     "output_type": "error",
     "traceback": [
      "\u001b[1;31m---------------------------------------------------------------------------\u001b[0m",
      "\u001b[1;31mTypeError\u001b[0m                                 Traceback (most recent call last)",
      "Cell \u001b[1;32mIn[12], line 1\u001b[0m\n\u001b[1;32m----> 1\u001b[0m vgg_model\u001b[39m.\u001b[39;49mcompile(loss\u001b[39m=\u001b[39;49m\u001b[39m'\u001b[39;49m\u001b[39msparse_categorical_crossentropy\u001b[39;49m\u001b[39m'\u001b[39;49m, optimizer\u001b[39m=\u001b[39;49m\u001b[39m'\u001b[39;49m\u001b[39madam\u001b[39;49m\u001b[39m'\u001b[39;49m, metrics\u001b[39m=\u001b[39;49m[\u001b[39m'\u001b[39;49m\u001b[39maccuracy\u001b[39;49m\u001b[39m'\u001b[39;49m],callbacks\u001b[39m=\u001b[39;49m[checkpoint])\n\u001b[0;32m      2\u001b[0m vgg_model\u001b[39m.\u001b[39mfit(X_train, y_train, epochs\u001b[39m=\u001b[39m\u001b[39m50\u001b[39m, batch_size\u001b[39m=\u001b[39m\u001b[39m10\u001b[39m, validation_split\u001b[39m=\u001b[39m\u001b[39m0.2\u001b[39m)\n",
      "File \u001b[1;32mc:\\Users\\malik\\miniconda3\\envs\\tf-asl\\lib\\site-packages\\keras\\utils\\traceback_utils.py:70\u001b[0m, in \u001b[0;36mfilter_traceback.<locals>.error_handler\u001b[1;34m(*args, **kwargs)\u001b[0m\n\u001b[0;32m     67\u001b[0m     filtered_tb \u001b[39m=\u001b[39m _process_traceback_frames(e\u001b[39m.\u001b[39m__traceback__)\n\u001b[0;32m     68\u001b[0m     \u001b[39m# To get the full stack trace, call:\u001b[39;00m\n\u001b[0;32m     69\u001b[0m     \u001b[39m# `tf.debugging.disable_traceback_filtering()`\u001b[39;00m\n\u001b[1;32m---> 70\u001b[0m     \u001b[39mraise\u001b[39;00m e\u001b[39m.\u001b[39mwith_traceback(filtered_tb) \u001b[39mfrom\u001b[39;00m \u001b[39mNone\u001b[39m\n\u001b[0;32m     71\u001b[0m \u001b[39mfinally\u001b[39;00m:\n\u001b[0;32m     72\u001b[0m     \u001b[39mdel\u001b[39;00m filtered_tb\n",
      "File \u001b[1;32mc:\\Users\\malik\\miniconda3\\envs\\tf-asl\\lib\\site-packages\\keras\\engine\\training.py:3524\u001b[0m, in \u001b[0;36mModel._validate_compile\u001b[1;34m(self, optimizer, metrics, **kwargs)\u001b[0m\n\u001b[0;32m   3522\u001b[0m invalid_kwargs \u001b[39m=\u001b[39m \u001b[39mset\u001b[39m(kwargs) \u001b[39m-\u001b[39m {\u001b[39m\"\u001b[39m\u001b[39msample_weight_mode\u001b[39m\u001b[39m\"\u001b[39m}\n\u001b[0;32m   3523\u001b[0m \u001b[39mif\u001b[39;00m invalid_kwargs:\n\u001b[1;32m-> 3524\u001b[0m     \u001b[39mraise\u001b[39;00m \u001b[39mTypeError\u001b[39;00m(\n\u001b[0;32m   3525\u001b[0m         \u001b[39m\"\u001b[39m\u001b[39mInvalid keyword argument(s) in `compile()`: \u001b[39m\u001b[39m\"\u001b[39m\n\u001b[0;32m   3526\u001b[0m         \u001b[39mf\u001b[39m\u001b[39m\"\u001b[39m\u001b[39m{\u001b[39;00m(invalid_kwargs,)\u001b[39m}\u001b[39;00m\u001b[39m. Valid keyword arguments include \u001b[39m\u001b[39m\"\u001b[39m\n\u001b[0;32m   3527\u001b[0m         \u001b[39m'\u001b[39m\u001b[39m\"\u001b[39m\u001b[39mcloning\u001b[39m\u001b[39m\"\u001b[39m\u001b[39m, \u001b[39m\u001b[39m\"\u001b[39m\u001b[39mexperimental_run_tf_function\u001b[39m\u001b[39m\"\u001b[39m\u001b[39m, \u001b[39m\u001b[39m\"\u001b[39m\u001b[39mdistribute\u001b[39m\u001b[39m\"\u001b[39m\u001b[39m,\u001b[39m\u001b[39m'\u001b[39m\n\u001b[0;32m   3528\u001b[0m         \u001b[39m'\u001b[39m\u001b[39m \u001b[39m\u001b[39m\"\u001b[39m\u001b[39mtarget_tensors\u001b[39m\u001b[39m\"\u001b[39m\u001b[39m, or \u001b[39m\u001b[39m\"\u001b[39m\u001b[39msample_weight_mode\u001b[39m\u001b[39m\"\u001b[39m\u001b[39m.\u001b[39m\u001b[39m'\u001b[39m\n\u001b[0;32m   3529\u001b[0m     )\n\u001b[0;32m   3531\u001b[0m \u001b[39m# Model must be created and compiled with the same DistStrat.\u001b[39;00m\n\u001b[0;32m   3532\u001b[0m \u001b[39mif\u001b[39;00m \u001b[39mself\u001b[39m\u001b[39m.\u001b[39mbuilt \u001b[39mand\u001b[39;00m tf\u001b[39m.\u001b[39mdistribute\u001b[39m.\u001b[39mhas_strategy():\n",
      "\u001b[1;31mTypeError\u001b[0m: Invalid keyword argument(s) in `compile()`: ({'callbacks'},). Valid keyword arguments include \"cloning\", \"experimental_run_tf_function\", \"distribute\", \"target_tensors\", or \"sample_weight_mode\"."
     ]
    }
   ],
   "source": [
    "vgg_model.compile(loss='sparse_categorical_crossentropy', optimizer='adam', metrics=['accuracy'])\n",
    "vgg_model.fit(X_train, y_train, epochs=50, batch_size=10, validation_split=0.2, callbacks=[checkpoint])"
   ]
  },
  {
   "cell_type": "code",
   "execution_count": null,
   "metadata": {},
   "outputs": [],
   "source": [
    "vgg_model.layers[-2].output"
   ]
  },
  {
   "cell_type": "code",
   "execution_count": null,
   "metadata": {},
   "outputs": [],
   "source": []
  },
  {
   "cell_type": "code",
   "execution_count": null,
   "metadata": {},
   "outputs": [],
   "source": [
    "from keras import backend as K\n",
    "import tensorflow as tf\n",
    "\n",
    "get_fc1_output = K.function([vgg_model.layers[0].input],[vgg_model.layers[-2].output])\n",
    "\n",
    "test_sample = tf.random.uniform(shape=(1,224,224,3), minval=0, maxval=1)\n",
    "# test_sample.shape\n",
    "layer_output = get_fc1_output([test_sample])[0]\n",
    "layer_output"
   ]
  }
 ],
 "metadata": {
  "kernelspec": {
   "display_name": "tf-asl",
   "language": "python",
   "name": "python3"
  },
  "language_info": {
   "codemirror_mode": {
    "name": "ipython",
    "version": 3
   },
   "file_extension": ".py",
   "mimetype": "text/x-python",
   "name": "python",
   "nbconvert_exporter": "python",
   "pygments_lexer": "ipython3",
   "version": "3.10.9"
  },
  "orig_nbformat": 4,
  "vscode": {
   "interpreter": {
    "hash": "17062ca204f66f718896ff35a055f4f5637bca1ea6e288aa2be1f036ecf3bc83"
   }
  }
 },
 "nbformat": 4,
 "nbformat_minor": 2
}
