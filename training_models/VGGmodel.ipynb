{
 "cells": [
  {
   "attachments": {},
   "cell_type": "markdown",
   "metadata": {},
   "source": [
    "Test 1 - Using VGG with last embedded layer and Random Forest at the end"
   ]
  },
  {
   "cell_type": "code",
   "execution_count": 1,
   "metadata": {},
   "outputs": [],
   "source": [
    "import os\n",
    "os.environ[\"CUDA_VISIBLE_DEVICES\"] = \"-1\""
   ]
  },
  {
   "cell_type": "code",
   "execution_count": 2,
   "metadata": {},
   "outputs": [],
   "source": [
    "import tensorflow as tf\n",
    "import numpy as np"
   ]
  },
  {
   "cell_type": "code",
   "execution_count": 3,
   "metadata": {},
   "outputs": [
    {
     "name": "stdout",
     "output_type": "stream",
     "text": [
      "Num GPUs Available:  0\n"
     ]
    }
   ],
   "source": [
    "print(\"Num GPUs Available: \", len(tf.config.list_physical_devices('GPU')))"
   ]
  },
  {
   "cell_type": "code",
   "execution_count": 4,
   "metadata": {},
   "outputs": [
    {
     "data": {
      "text/plain": [
       "'2.10.1'"
      ]
     },
     "execution_count": 4,
     "metadata": {},
     "output_type": "execute_result"
    }
   ],
   "source": [
    "tf.__version__"
   ]
  },
  {
   "cell_type": "code",
   "execution_count": 5,
   "metadata": {},
   "outputs": [
    {
     "data": {
      "text/plain": [
       "['afraid',\n",
       " 'afternoon',\n",
       " 'again',\n",
       " 'all',\n",
       " 'apple',\n",
       " 'aunt',\n",
       " 'bad',\n",
       " 'bathroom',\n",
       " 'beautiful',\n",
       " 'black',\n",
       " 'blue',\n",
       " 'book',\n",
       " 'born',\n",
       " 'boy',\n",
       " 'boyfriend',\n",
       " 'bread',\n",
       " 'brother',\n",
       " 'brown',\n",
       " 'bus',\n",
       " 'bye',\n",
       " 'cat',\n",
       " 'cheese',\n",
       " 'chicken',\n",
       " 'children',\n",
       " 'church',\n",
       " 'class',\n",
       " 'clothes',\n",
       " 'coffee',\n",
       " 'college',\n",
       " 'color',\n",
       " 'computer',\n",
       " 'cook',\n",
       " 'cousin',\n",
       " 'cup',\n",
       " 'dance',\n",
       " 'daughter',\n",
       " 'day',\n",
       " 'deaf',\n",
       " 'die',\n",
       " 'doctor',\n",
       " 'dog',\n",
       " 'door',\n",
       " 'draw',\n",
       " 'drink',\n",
       " 'eat',\n",
       " 'egg',\n",
       " 'english',\n",
       " 'family',\n",
       " 'father',\n",
       " 'fine',\n",
       " 'finish',\n",
       " 'fish',\n",
       " 'forget',\n",
       " 'france',\n",
       " 'friend',\n",
       " 'friendly',\n",
       " 'girl',\n",
       " 'gold',\n",
       " 'good',\n",
       " 'grandfather',\n",
       " 'grandmother',\n",
       " 'green',\n",
       " 'hair',\n",
       " 'happy',\n",
       " 'hat',\n",
       " 'have',\n",
       " 'hearing',\n",
       " 'hello',\n",
       " 'help',\n",
       " 'here',\n",
       " 'home',\n",
       " 'horse',\n",
       " 'how',\n",
       " 'how_many',\n",
       " 'hungry',\n",
       " 'hurt',\n",
       " 'husband',\n",
       " 'jacket',\n",
       " 'kitchen',\n",
       " 'know',\n",
       " 'late',\n",
       " 'learn',\n",
       " 'light',\n",
       " 'like',\n",
       " 'live',\n",
       " 'lost',\n",
       " 'love',\n",
       " 'lunch',\n",
       " 'mad',\n",
       " 'man',\n",
       " 'marry',\n",
       " 'me',\n",
       " 'meet',\n",
       " 'milk',\n",
       " 'morning',\n",
       " 'mother',\n",
       " 'my',\n",
       " 'name',\n",
       " 'nephew',\n",
       " 'nice',\n",
       " 'niece',\n",
       " 'night',\n",
       " 'no',\n",
       " 'not',\n",
       " 'not know',\n",
       " 'nothing',\n",
       " 'now',\n",
       " 'nurse',\n",
       " 'old',\n",
       " 'one',\n",
       " 'orange',\n",
       " 'pants',\n",
       " 'paper',\n",
       " 'pencil',\n",
       " 'pink',\n",
       " 'play',\n",
       " 'please',\n",
       " 'purple',\n",
       " 'read',\n",
       " 'red',\n",
       " 'room',\n",
       " 'sad',\n",
       " 'salad',\n",
       " 'same',\n",
       " 'school',\n",
       " 'see',\n",
       " 'shirt',\n",
       " 'shoes',\n",
       " 'shower',\n",
       " 'sick',\n",
       " 'sign',\n",
       " 'sister',\n",
       " 'sit',\n",
       " 'slow',\n",
       " 'some',\n",
       " 'son',\n",
       " 'spring',\n",
       " 'student',\n",
       " 'sunday',\n",
       " 'table',\n",
       " 'teach',\n",
       " 'teacher',\n",
       " 'ten',\n",
       " 'thank you',\n",
       " 'thursday',\n",
       " 'time',\n",
       " 'tired',\n",
       " 'tomorrow',\n",
       " 'turkey',\n",
       " 'twenty',\n",
       " 'two',\n",
       " 'uncle',\n",
       " 'understand',\n",
       " 'vacation',\n",
       " 'walk',\n",
       " 'want',\n",
       " 'watch',\n",
       " 'water',\n",
       " 'wednesday',\n",
       " 'what',\n",
       " 'when',\n",
       " 'where',\n",
       " 'white',\n",
       " 'who',\n",
       " 'wife',\n",
       " 'woman',\n",
       " 'work',\n",
       " 'write',\n",
       " 'year',\n",
       " 'yellow',\n",
       " 'yes',\n",
       " 'yesterday',\n",
       " 'you',\n",
       " 'your']"
      ]
     },
     "execution_count": 5,
     "metadata": {},
     "output_type": "execute_result"
    }
   ],
   "source": [
    "# Analyze + process data\n",
    "#Filter by number of entries\n",
    "train_dir = \"C:/Users/malik/Desktop/ASL-Aly/ASL-words-translator/IMAGE_vision/train_data\"\n",
    "\n",
    "saved_classes = []\n",
    "\n",
    "for folder in os.listdir(train_dir):\n",
    "    if len(os.listdir(os.path.join(train_dir, folder))) >= 15:\n",
    "        saved_classes.append(folder)\n",
    "        \n",
    "    # for file in os.walk(os.path.join(train_dir, dirnames)):\n",
    "    #     print(file)\n",
    "(saved_classes)"
   ]
  },
  {
   "cell_type": "code",
   "execution_count": 6,
   "metadata": {},
   "outputs": [
    {
     "name": "stdout",
     "output_type": "stream",
     "text": [
      "24\n"
     ]
    }
   ],
   "source": [
    "# Filter by frames\n",
    "new_saved = []\n",
    "for label in saved_classes:\n",
    "    dir = os.path.join(train_dir, label)\n",
    "    for file in os.listdir(dir):\n",
    "        arr = np.load(os.path.join(train_dir, label, file))\n",
    "        if len(arr) < 2:\n",
    "            break\n",
    "        elif os.listdir(dir)[-1] == file:\n",
    "            new_saved.append(label)\n",
    "\n",
    "print(len(new_saved))"
   ]
  },
  {
   "cell_type": "code",
   "execution_count": 64,
   "metadata": {},
   "outputs": [
    {
     "data": {
      "text/plain": [
       "['apple',\n",
       " 'cheese',\n",
       " 'chicken',\n",
       " 'church',\n",
       " 'coffee',\n",
       " 'college',\n",
       " 'cook',\n",
       " 'daughter',\n",
       " 'dog',\n",
       " 'door',\n",
       " 'friendly',\n",
       " 'grandmother',\n",
       " 'home',\n",
       " 'hungry',\n",
       " 'milk',\n",
       " 'not know',\n",
       " 'shoes',\n",
       " 'thursday',\n",
       " 'time',\n",
       " 'tomorrow',\n",
       " 'uncle',\n",
       " 'vacation',\n",
       " 'woman',\n",
       " 'your']"
      ]
     },
     "execution_count": 64,
     "metadata": {},
     "output_type": "execute_result"
    }
   ],
   "source": [
    "# Data with at least 15 entries, each having at least 2 frames\n",
    "new_saved "
   ]
  },
  {
   "cell_type": "code",
   "execution_count": 7,
   "metadata": {},
   "outputs": [
    {
     "name": "stdout",
     "output_type": "stream",
     "text": [
      "apple\n",
      "cheese\n",
      "chicken\n",
      "church\n"
     ]
    },
    {
     "ename": "KeyboardInterrupt",
     "evalue": "",
     "output_type": "error",
     "traceback": [
      "\u001b[1;31m---------------------------------------------------------------------------\u001b[0m",
      "\u001b[1;31mKeyboardInterrupt\u001b[0m                         Traceback (most recent call last)",
      "Cell \u001b[1;32mIn[7], line 15\u001b[0m\n\u001b[0;32m     13\u001b[0m                 Y \u001b[39m=\u001b[39m np\u001b[39m.\u001b[39marray([new_saved\u001b[39m.\u001b[39mindex(label)])\n\u001b[0;32m     14\u001b[0m             \u001b[39melse\u001b[39;00m:\n\u001b[1;32m---> 15\u001b[0m                 X \u001b[39m=\u001b[39m np\u001b[39m.\u001b[39;49mappend(X, np\u001b[39m.\u001b[39;49marray([frame]), axis\u001b[39m=\u001b[39;49m\u001b[39m0\u001b[39;49m)\n\u001b[0;32m     16\u001b[0m                 Y \u001b[39m=\u001b[39m np\u001b[39m.\u001b[39mappend(Y, np\u001b[39m.\u001b[39marray([new_saved\u001b[39m.\u001b[39mindex(label)]), axis\u001b[39m=\u001b[39m\u001b[39m0\u001b[39m)\n\u001b[0;32m     18\u001b[0m \u001b[39mprint\u001b[39m(X\u001b[39m.\u001b[39mshape, Y\u001b[39m.\u001b[39mshape)\n",
      "File \u001b[1;32m<__array_function__ internals>:200\u001b[0m, in \u001b[0;36mappend\u001b[1;34m(*args, **kwargs)\u001b[0m\n",
      "File \u001b[1;32mc:\\Users\\malik\\miniconda3\\envs\\tf-asl\\lib\\site-packages\\numpy\\lib\\function_base.py:5499\u001b[0m, in \u001b[0;36mappend\u001b[1;34m(arr, values, axis)\u001b[0m\n\u001b[0;32m   5497\u001b[0m     values \u001b[39m=\u001b[39m ravel(values)\n\u001b[0;32m   5498\u001b[0m     axis \u001b[39m=\u001b[39m arr\u001b[39m.\u001b[39mndim\u001b[39m-\u001b[39m\u001b[39m1\u001b[39m\n\u001b[1;32m-> 5499\u001b[0m \u001b[39mreturn\u001b[39;00m concatenate((arr, values), axis\u001b[39m=\u001b[39;49maxis)\n",
      "File \u001b[1;32m<__array_function__ internals>:200\u001b[0m, in \u001b[0;36mconcatenate\u001b[1;34m(*args, **kwargs)\u001b[0m\n",
      "\u001b[1;31mKeyboardInterrupt\u001b[0m: "
     ]
    }
   ],
   "source": [
    "# Add each video into one collective Numpy Array, containing frames (3D objects)\n",
    "\n",
    "X = []\n",
    "Y = []\n",
    "for label in new_saved:\n",
    "    print(label)\n",
    "    dir = os.path.join(train_dir, label)\n",
    "    for file in os.listdir(dir):\n",
    "        arr = np.load(os.path.join(train_dir, label, file))\n",
    "        for frame in arr:\n",
    "            if len(X) == 0:\n",
    "                X = np.array([frame])\n",
    "                Y = np.array([new_saved.index(label)])\n",
    "            else:\n",
    "                X = np.append(X, np.array([frame]), axis=0)\n",
    "                Y = np.append(Y, np.array([new_saved.index(label)]), axis=0)\n",
    "\n",
    "print(X.shape, Y.shape)"
   ]
  },
  {
   "cell_type": "code",
   "execution_count": 3,
   "metadata": {},
   "outputs": [
    {
     "ename": "NameError",
     "evalue": "name 'X' is not defined",
     "output_type": "error",
     "traceback": [
      "\u001b[1;31m---------------------------------------------------------------------------\u001b[0m",
      "\u001b[1;31mNameError\u001b[0m                                 Traceback (most recent call last)",
      "Cell \u001b[1;32mIn[3], line 1\u001b[0m\n\u001b[1;32m----> 1\u001b[0m np\u001b[39m.\u001b[39msave(\u001b[39m\"\u001b[39m\u001b[39mC:/Users/malik/Desktop/ASL-Aly/ASL-words-translator/IMAGE_vision/X\u001b[39m\u001b[39m\"\u001b[39m, np\u001b[39m.\u001b[39masarray(X, dtype\u001b[39m=\u001b[39mnp\u001b[39m.\u001b[39mfloat32), allow_pickle\u001b[39m=\u001b[39m\u001b[39mTrue\u001b[39;00m, fix_imports\u001b[39m=\u001b[39m\u001b[39mTrue\u001b[39;00m)\n\u001b[0;32m      2\u001b[0m np\u001b[39m.\u001b[39msave(\u001b[39m\"\u001b[39m\u001b[39mC:/Users/malik/Desktop/ASL-Aly/ASL-words-translator/IMAGE_vision/Y\u001b[39m\u001b[39m\"\u001b[39m, np\u001b[39m.\u001b[39masarray(Y, dtype\u001b[39m=\u001b[39mnp\u001b[39m.\u001b[39mfloat32), allow_pickle\u001b[39m=\u001b[39m\u001b[39mTrue\u001b[39;00m, fix_imports\u001b[39m=\u001b[39m\u001b[39mTrue\u001b[39;00m)\n",
      "\u001b[1;31mNameError\u001b[0m: name 'X' is not defined"
     ]
    }
   ],
   "source": [
    "np.save(\"C:/Users/malik/Desktop/ASL-Aly/ASL-words-translator/IMAGE_vision/X\", np.asarray(X, dtype=np.float32), allow_pickle=True, fix_imports=True)\n",
    "np.save(\"C:/Users/malik/Desktop/ASL-Aly/ASL-words-translator/IMAGE_vision/Y\", np.asarray(Y, dtype=np.float32), allow_pickle=True, fix_imports=True)"
   ]
  },
  {
   "cell_type": "code",
   "execution_count": 8,
   "metadata": {},
   "outputs": [],
   "source": [
    "new_saved = ['apple',\n",
    " 'cheese',\n",
    " 'chicken',\n",
    " 'church',\n",
    " 'coffee',\n",
    " 'college',\n",
    " 'cook',\n",
    " 'daughter',\n",
    " 'dog',\n",
    " 'door',\n",
    " 'friendly',\n",
    " 'grandmother',\n",
    " 'home',\n",
    " 'hungry',\n",
    " 'milk',\n",
    " 'not know',\n",
    " 'shoes',\n",
    " 'thursday',\n",
    " 'time',\n",
    " 'tomorrow',\n",
    " 'uncle',\n",
    " 'vacation',\n",
    " 'woman',\n",
    " 'your']"
   ]
  },
  {
   "cell_type": "code",
   "execution_count": 11,
   "metadata": {},
   "outputs": [
    {
     "data": {
      "text/plain": [
       "((1404, 256, 256, 3), (1404,))"
      ]
     },
     "execution_count": 11,
     "metadata": {},
     "output_type": "execute_result"
    }
   ],
   "source": [
    "X_train = np.load(\"C:/Users/malik/Desktop/ASL-Aly/ASL-words-translator/IMAGE_vision/X_train.npy\")\n",
    "y_train = np.load(\"C:/Users/malik/Desktop/ASL-Aly/ASL-words-translator/IMAGE_vision/Y_train.npy\")\n",
    "X_train.shape, y_train.shape"
   ]
  },
  {
   "cell_type": "code",
   "execution_count": 5,
   "metadata": {},
   "outputs": [],
   "source": [
    "# import sklearn\n",
    "# from sklearn.model_selection import train_test_split\n",
    "# X_train, X_test, y_train, y_test = train_test_split(X, Y, test_size=0.2, random_state=42)\n",
    "# Load Test set"
   ]
  },
  {
   "cell_type": "code",
   "execution_count": 6,
   "metadata": {},
   "outputs": [],
   "source": [
    "from tensorflow.keras.utils import Sequence\n",
    "import numpy as np   \n",
    "\n",
    "class DataGenerator(Sequence):\n",
    "    def __init__(self, x_set, y_set, batch_size):\n",
    "        self.x, self.y = x_set, y_set\n",
    "        self.batch_size = batch_size\n",
    "\n",
    "    def __len__(self):\n",
    "        return int(np.ceil(len(self.x) / float(self.batch_size)))\n",
    "\n",
    "    def __getitem__(self, idx):\n",
    "        batch_x = self.x[idx * self.batch_size:(idx + 1) * self.batch_size]\n",
    "        batch_y = self.y[idx * self.batch_size:(idx + 1) * self.batch_size]\n",
    "        return batch_x, batch_y\n",
    "\n",
    "train_gen = DataGenerator(X_train, y_train, 32)\n",
    "test_gen = DataGenerator(X_test, y_test, 32)"
   ]
  },
  {
   "cell_type": "code",
   "execution_count": 7,
   "metadata": {},
   "outputs": [
    {
     "name": "stdout",
     "output_type": "stream",
     "text": [
      "Model: \"vgg16\"\n",
      "_________________________________________________________________\n",
      " Layer (type)                Output Shape              Param #   \n",
      "=================================================================\n",
      " input_1 (InputLayer)        [(None, 256, 256, 3)]     0         \n",
      "                                                                 \n",
      " block1_conv1 (Conv2D)       (None, 256, 256, 64)      1792      \n",
      "                                                                 \n",
      " block1_conv2 (Conv2D)       (None, 256, 256, 64)      36928     \n",
      "                                                                 \n",
      " block1_pool (MaxPooling2D)  (None, 128, 128, 64)      0         \n",
      "                                                                 \n",
      " block2_conv1 (Conv2D)       (None, 128, 128, 128)     73856     \n",
      "                                                                 \n",
      " block2_conv2 (Conv2D)       (None, 128, 128, 128)     147584    \n",
      "                                                                 \n",
      " block2_pool (MaxPooling2D)  (None, 64, 64, 128)       0         \n",
      "                                                                 \n",
      " block3_conv1 (Conv2D)       (None, 64, 64, 256)       295168    \n",
      "                                                                 \n",
      " block3_conv2 (Conv2D)       (None, 64, 64, 256)       590080    \n",
      "                                                                 \n",
      " block3_conv3 (Conv2D)       (None, 64, 64, 256)       590080    \n",
      "                                                                 \n",
      " block3_pool (MaxPooling2D)  (None, 32, 32, 256)       0         \n",
      "                                                                 \n",
      " block4_conv1 (Conv2D)       (None, 32, 32, 512)       1180160   \n",
      "                                                                 \n",
      " block4_conv2 (Conv2D)       (None, 32, 32, 512)       2359808   \n",
      "                                                                 \n",
      " block4_conv3 (Conv2D)       (None, 32, 32, 512)       2359808   \n",
      "                                                                 \n",
      " block4_pool (MaxPooling2D)  (None, 16, 16, 512)       0         \n",
      "                                                                 \n",
      " block5_conv1 (Conv2D)       (None, 16, 16, 512)       2359808   \n",
      "                                                                 \n",
      " block5_conv2 (Conv2D)       (None, 16, 16, 512)       2359808   \n",
      "                                                                 \n",
      " block5_conv3 (Conv2D)       (None, 16, 16, 512)       2359808   \n",
      "                                                                 \n",
      " block5_pool (MaxPooling2D)  (None, 8, 8, 512)         0         \n",
      "                                                                 \n",
      "=================================================================\n",
      "Total params: 14,714,688\n",
      "Trainable params: 0\n",
      "Non-trainable params: 14,714,688\n",
      "_________________________________________________________________\n"
     ]
    }
   ],
   "source": [
    "import tensorflow as tf\n",
    "from tensorflow.keras.applications.vgg16 import VGG16\n",
    "\n",
    "vgg_model = VGG16(weights='imagenet', input_shape=(256, 256, 3), include_top=False)\n",
    "vgg_model.trainable = False\n",
    "vgg_model.summary()"
   ]
  },
  {
   "cell_type": "code",
   "execution_count": 8,
   "metadata": {},
   "outputs": [],
   "source": [
    "from tensorflow.keras.layers import Dense, Flatten\n",
    "from tensorflow.keras.models import Model\n",
    "\n",
    "x = vgg_model.get_layer('block5_pool').output\n",
    "x = Flatten(name='flatten')(x)\n",
    "# fc1 = Dense(4096, activation='relu')(x)\n",
    "# fc2 = Dense(4096, activation='relu')(fc1)\n",
    "output = Dense(24, activation='softmax')(x)\n",
    "\n",
    "vgg_model = Model(vgg_model.input, output)"
   ]
  },
  {
   "cell_type": "code",
   "execution_count": 9,
   "metadata": {},
   "outputs": [],
   "source": [
    "gpus = tf.config.list_physical_devices('GPU')\n",
    "if gpus:\n",
    "  # Restrict TensorFlow to only use the first GPU\n",
    "  try:\n",
    "    tf.config.set_visible_devices(gpus[0], 'GPU')\n",
    "    logical_gpus = tf.config.list_logical_devices('GPU')\n",
    "    print(len(gpus), \"Physical GPUs,\", len(logical_gpus), \"Logical GPU\")\n",
    "  except RuntimeError as e:\n",
    "    # Visible devices must be set before GPUs have been initialized\n",
    "    print(e)"
   ]
  },
  {
   "cell_type": "code",
   "execution_count": 9,
   "metadata": {},
   "outputs": [
    {
     "name": "stdout",
     "output_type": "stream",
     "text": [
      "Virtual devices cannot be modified after being initialized\n"
     ]
    }
   ],
   "source": [
    "gpus = tf.config.experimental.list_physical_devices(\"GPU\")\n",
    "if gpus:\n",
    "  # Restrict TensorFlow to only allocate 1GB of memory on the first GPU\n",
    "  try:\n",
    "    tf.config.experimental.set_virtual_device_configuration(gpus[0],\n",
    "    [tf.config.experimental.VirtualDeviceConfiguration(memory_limit=2048)])\n",
    "    logical_gpus = tf.config.experimental.list_logical_devices(\"GPU\")\n",
    "    print(len(gpus), \"Physical GPUs,\", len(logical_gpus), \"Logical GPUs\")\n",
    "  except RuntimeError as e:\n",
    "  # Virtual devices must be set before GPUs have been initialized\n",
    "    print(e)"
   ]
  },
  {
   "cell_type": "code",
   "execution_count": 10,
   "metadata": {},
   "outputs": [
    {
     "name": "stdout",
     "output_type": "stream",
     "text": [
      "Device mapping:\n",
      "/job:localhost/replica:0/task:0/device:GPU:0 -> device: 0, name: NVIDIA GeForce GTX 1660 SUPER, pci bus id: 0000:06:00.0, compute capability: 7.5\n",
      "\n"
     ]
    }
   ],
   "source": [
    "gpu_options = tf.compat.v1.GPUOptions(per_process_gpu_memory_fraction=0.333) \n",
    "sess = tf.compat.v1.Session(config=tf.compat.v1.ConfigProto(log_device_placement=True, gpu_options=gpu_options))"
   ]
  },
  {
   "cell_type": "code",
   "execution_count": 11,
   "metadata": {},
   "outputs": [],
   "source": [
    "checkpoint = tf.keras.callbacks.ModelCheckpoint(\n",
    "    \"C:/Users/malik/Desktop/ASL-Aly/ASL-words-translator/training_models/weights.{epoch:02d}-{val_loss:.2f}\",\n",
    "    monitor='val_loss',\n",
    "    verbose=0,\n",
    "    save_best_only=True,\n",
    "    save_weights_only=False,\n",
    "    mode='auto',\n",
    "    save_freq='epoch',\n",
    ")"
   ]
  },
  {
   "cell_type": "code",
   "execution_count": 13,
   "metadata": {},
   "outputs": [
    {
     "name": "stdout",
     "output_type": "stream",
     "text": [
      "Epoch 1/50\n",
      "90/90 [==============================] - ETA: 0s - loss: 4.2603 - accuracy: 0.2817"
     ]
    },
    {
     "name": "stderr",
     "output_type": "stream",
     "text": [
      "WARNING:absl:Found untraced functions such as _jit_compiled_convolution_op, _jit_compiled_convolution_op, _jit_compiled_convolution_op, _jit_compiled_convolution_op, _jit_compiled_convolution_op while saving (showing 5 of 13). These functions will not be directly callable after loading.\n"
     ]
    },
    {
     "name": "stdout",
     "output_type": "stream",
     "text": [
      "INFO:tensorflow:Assets written to: C:/Users/malik/Desktop/ASL-Aly/ASL-words-translator/training_models\\weights.01-3.83\\assets\n"
     ]
    },
    {
     "name": "stderr",
     "output_type": "stream",
     "text": [
      "INFO:tensorflow:Assets written to: C:/Users/malik/Desktop/ASL-Aly/ASL-words-translator/training_models\\weights.01-3.83\\assets\n"
     ]
    },
    {
     "name": "stdout",
     "output_type": "stream",
     "text": [
      "90/90 [==============================] - 87s 958ms/step - loss: 4.2603 - accuracy: 0.2817 - val_loss: 3.8276 - val_accuracy: 0.3778\n",
      "Epoch 2/50\n",
      "90/90 [==============================] - ETA: 0s - loss: 1.3858 - accuracy: 0.6526"
     ]
    },
    {
     "name": "stderr",
     "output_type": "stream",
     "text": [
      "WARNING:absl:Found untraced functions such as _jit_compiled_convolution_op, _jit_compiled_convolution_op, _jit_compiled_convolution_op, _jit_compiled_convolution_op, _jit_compiled_convolution_op while saving (showing 5 of 13). These functions will not be directly callable after loading.\n"
     ]
    },
    {
     "name": "stdout",
     "output_type": "stream",
     "text": [
      "INFO:tensorflow:Assets written to: C:/Users/malik/Desktop/ASL-Aly/ASL-words-translator/training_models\\weights.02-3.05\\assets\n"
     ]
    },
    {
     "name": "stderr",
     "output_type": "stream",
     "text": [
      "INFO:tensorflow:Assets written to: C:/Users/malik/Desktop/ASL-Aly/ASL-words-translator/training_models\\weights.02-3.05\\assets\n"
     ]
    },
    {
     "name": "stdout",
     "output_type": "stream",
     "text": [
      "90/90 [==============================] - 86s 961ms/step - loss: 1.3858 - accuracy: 0.6526 - val_loss: 3.0482 - val_accuracy: 0.4667\n",
      "Epoch 3/50\n",
      "90/90 [==============================] - ETA: 0s - loss: 0.7446 - accuracy: 0.8085"
     ]
    },
    {
     "name": "stderr",
     "output_type": "stream",
     "text": [
      "WARNING:absl:Found untraced functions such as _jit_compiled_convolution_op, _jit_compiled_convolution_op, _jit_compiled_convolution_op, _jit_compiled_convolution_op, _jit_compiled_convolution_op while saving (showing 5 of 13). These functions will not be directly callable after loading.\n"
     ]
    },
    {
     "name": "stdout",
     "output_type": "stream",
     "text": [
      "INFO:tensorflow:Assets written to: C:/Users/malik/Desktop/ASL-Aly/ASL-words-translator/training_models\\weights.03-2.05\\assets\n"
     ]
    },
    {
     "name": "stderr",
     "output_type": "stream",
     "text": [
      "INFO:tensorflow:Assets written to: C:/Users/malik/Desktop/ASL-Aly/ASL-words-translator/training_models\\weights.03-2.05\\assets\n"
     ]
    },
    {
     "name": "stdout",
     "output_type": "stream",
     "text": [
      "90/90 [==============================] - 86s 959ms/step - loss: 0.7446 - accuracy: 0.8085 - val_loss: 2.0538 - val_accuracy: 0.5733\n",
      "Epoch 4/50\n",
      "90/90 [==============================] - 84s 930ms/step - loss: 0.4915 - accuracy: 0.8619 - val_loss: 2.1677 - val_accuracy: 0.5956\n",
      "Epoch 5/50\n",
      "90/90 [==============================] - 83s 928ms/step - loss: 0.3729 - accuracy: 0.8998 - val_loss: 2.3367 - val_accuracy: 0.5600\n",
      "Epoch 6/50\n",
      "90/90 [==============================] - 83s 926ms/step - loss: 0.3317 - accuracy: 0.8964 - val_loss: 2.4079 - val_accuracy: 0.5556\n",
      "Epoch 7/50\n",
      "90/90 [==============================] - 84s 931ms/step - loss: 0.2059 - accuracy: 0.9343 - val_loss: 2.6447 - val_accuracy: 0.6133\n",
      "Epoch 8/50\n",
      "90/90 [==============================] - 83s 929ms/step - loss: 0.2858 - accuracy: 0.9265 - val_loss: 3.1581 - val_accuracy: 0.5467\n",
      "Epoch 9/50\n",
      "90/90 [==============================] - 83s 927ms/step - loss: 0.2471 - accuracy: 0.9421 - val_loss: 2.6291 - val_accuracy: 0.6267\n",
      "Epoch 10/50\n",
      "90/90 [==============================] - 83s 930ms/step - loss: 0.1747 - accuracy: 0.9488 - val_loss: 2.6145 - val_accuracy: 0.6267\n",
      "Epoch 11/50\n",
      "90/90 [==============================] - 83s 930ms/step - loss: 0.2888 - accuracy: 0.9332 - val_loss: 3.2208 - val_accuracy: 0.5733\n",
      "Epoch 12/50\n",
      "90/90 [==============================] - 84s 930ms/step - loss: 0.4548 - accuracy: 0.9120 - val_loss: 3.3791 - val_accuracy: 0.5511\n",
      "Epoch 13/50\n",
      "90/90 [==============================] - 84s 930ms/step - loss: 0.2669 - accuracy: 0.9343 - val_loss: 3.2764 - val_accuracy: 0.6044\n",
      "Epoch 14/50\n",
      "90/90 [==============================] - 84s 931ms/step - loss: 0.2243 - accuracy: 0.9454 - val_loss: 3.2800 - val_accuracy: 0.5822\n",
      "Epoch 15/50\n",
      "90/90 [==============================] - 83s 927ms/step - loss: 0.1127 - accuracy: 0.9633 - val_loss: 3.2897 - val_accuracy: 0.6267\n",
      "Epoch 16/50\n",
      "90/90 [==============================] - 84s 930ms/step - loss: 0.1690 - accuracy: 0.9555 - val_loss: 3.9335 - val_accuracy: 0.5956\n",
      "Epoch 17/50\n",
      "90/90 [==============================] - 84s 933ms/step - loss: 0.1118 - accuracy: 0.9710 - val_loss: 4.2160 - val_accuracy: 0.5644\n",
      "Epoch 18/50\n",
      "90/90 [==============================] - 85s 945ms/step - loss: 0.2046 - accuracy: 0.9577 - val_loss: 3.2424 - val_accuracy: 0.5867\n",
      "Epoch 19/50\n",
      "90/90 [==============================] - 84s 930ms/step - loss: 0.0869 - accuracy: 0.9800 - val_loss: 3.0927 - val_accuracy: 0.6711\n",
      "Epoch 20/50\n",
      "90/90 [==============================] - 84s 933ms/step - loss: 0.0918 - accuracy: 0.9822 - val_loss: 3.3100 - val_accuracy: 0.6267\n",
      "Epoch 21/50\n",
      "90/90 [==============================] - 84s 933ms/step - loss: 0.0606 - accuracy: 0.9855 - val_loss: 3.1631 - val_accuracy: 0.6089\n",
      "Epoch 22/50\n",
      "90/90 [==============================] - 84s 932ms/step - loss: 0.1625 - accuracy: 0.9677 - val_loss: 4.3327 - val_accuracy: 0.6000\n",
      "Epoch 23/50\n",
      "90/90 [==============================] - 84s 932ms/step - loss: 0.1867 - accuracy: 0.9555 - val_loss: 3.4458 - val_accuracy: 0.6000\n",
      "Epoch 24/50\n",
      "90/90 [==============================] - 84s 933ms/step - loss: 0.2641 - accuracy: 0.9499 - val_loss: 5.6242 - val_accuracy: 0.5289\n",
      "Epoch 25/50\n",
      "90/90 [==============================] - 84s 932ms/step - loss: 0.3633 - accuracy: 0.9332 - val_loss: 4.5993 - val_accuracy: 0.6000\n",
      "Epoch 26/50\n",
      "90/90 [==============================] - 84s 932ms/step - loss: 0.5150 - accuracy: 0.9143 - val_loss: 4.7634 - val_accuracy: 0.5556\n",
      "Epoch 27/50\n",
      "90/90 [==============================] - 84s 931ms/step - loss: 0.3452 - accuracy: 0.9343 - val_loss: 4.8441 - val_accuracy: 0.5733\n",
      "Epoch 28/50\n",
      "90/90 [==============================] - 84s 931ms/step - loss: 0.2285 - accuracy: 0.9532 - val_loss: 4.7726 - val_accuracy: 0.5733\n",
      "Epoch 29/50\n",
      "90/90 [==============================] - 84s 932ms/step - loss: 0.2745 - accuracy: 0.9354 - val_loss: 5.1056 - val_accuracy: 0.5867\n",
      "Epoch 30/50\n",
      "90/90 [==============================] - 84s 934ms/step - loss: 0.2195 - accuracy: 0.9599 - val_loss: 4.9457 - val_accuracy: 0.5956\n",
      "Epoch 31/50\n",
      "90/90 [==============================] - 84s 932ms/step - loss: 0.1325 - accuracy: 0.9733 - val_loss: 5.2329 - val_accuracy: 0.6178\n",
      "Epoch 32/50\n",
      "90/90 [==============================] - 84s 933ms/step - loss: 0.1279 - accuracy: 0.9733 - val_loss: 5.3346 - val_accuracy: 0.5511\n",
      "Epoch 33/50\n",
      "90/90 [==============================] - 84s 934ms/step - loss: 0.0645 - accuracy: 0.9878 - val_loss: 3.9960 - val_accuracy: 0.6844\n",
      "Epoch 34/50\n",
      "90/90 [==============================] - 84s 935ms/step - loss: 0.0661 - accuracy: 0.9889 - val_loss: 4.8477 - val_accuracy: 0.6133\n",
      "Epoch 35/50\n",
      "90/90 [==============================] - 86s 960ms/step - loss: 0.0964 - accuracy: 0.9788 - val_loss: 4.3116 - val_accuracy: 0.6622\n",
      "Epoch 36/50\n",
      "90/90 [==============================] - 84s 933ms/step - loss: 0.1789 - accuracy: 0.9699 - val_loss: 5.2444 - val_accuracy: 0.5778\n",
      "Epoch 37/50\n",
      "90/90 [==============================] - 84s 933ms/step - loss: 0.0905 - accuracy: 0.9788 - val_loss: 4.7274 - val_accuracy: 0.6000\n",
      "Epoch 38/50\n",
      "90/90 [==============================] - 84s 930ms/step - loss: 0.0611 - accuracy: 0.9855 - val_loss: 4.4381 - val_accuracy: 0.6622\n",
      "Epoch 39/50\n",
      "90/90 [==============================] - 84s 930ms/step - loss: 0.0516 - accuracy: 0.9922 - val_loss: 4.7950 - val_accuracy: 0.6178\n",
      "Epoch 40/50\n",
      "90/90 [==============================] - 83s 929ms/step - loss: 0.0370 - accuracy: 0.9933 - val_loss: 4.6198 - val_accuracy: 0.6178\n",
      "Epoch 41/50\n",
      "90/90 [==============================] - 83s 929ms/step - loss: 0.0496 - accuracy: 0.9911 - val_loss: 4.4399 - val_accuracy: 0.6267\n",
      "Epoch 42/50\n",
      "90/90 [==============================] - 85s 944ms/step - loss: 0.0694 - accuracy: 0.9889 - val_loss: 4.2256 - val_accuracy: 0.6622\n",
      "Epoch 43/50\n",
      "90/90 [==============================] - 84s 931ms/step - loss: 0.0539 - accuracy: 0.9911 - val_loss: 4.5994 - val_accuracy: 0.6356\n",
      "Epoch 44/50\n",
      "90/90 [==============================] - 83s 923ms/step - loss: 0.0408 - accuracy: 0.9866 - val_loss: 4.1892 - val_accuracy: 0.6622\n",
      "Epoch 45/50\n",
      "90/90 [==============================] - 83s 924ms/step - loss: 0.2117 - accuracy: 0.9733 - val_loss: 5.6721 - val_accuracy: 0.5422\n",
      "Epoch 46/50\n",
      "90/90 [==============================] - 83s 924ms/step - loss: 0.2844 - accuracy: 0.9566 - val_loss: 6.6583 - val_accuracy: 0.5867\n",
      "Epoch 47/50\n",
      "90/90 [==============================] - 83s 924ms/step - loss: 0.3095 - accuracy: 0.9443 - val_loss: 5.7828 - val_accuracy: 0.5733\n",
      "Epoch 48/50\n",
      "90/90 [==============================] - 83s 924ms/step - loss: 0.2987 - accuracy: 0.9488 - val_loss: 6.6306 - val_accuracy: 0.5422\n",
      "Epoch 49/50\n",
      "90/90 [==============================] - 83s 924ms/step - loss: 0.1818 - accuracy: 0.9610 - val_loss: 7.8085 - val_accuracy: 0.5067\n",
      "Epoch 50/50\n",
      "90/90 [==============================] - 83s 926ms/step - loss: 0.2123 - accuracy: 0.9633 - val_loss: 6.2822 - val_accuracy: 0.5467\n"
     ]
    },
    {
     "data": {
      "text/plain": [
       "<keras.callbacks.History at 0x206c4ae2740>"
      ]
     },
     "execution_count": 13,
     "metadata": {},
     "output_type": "execute_result"
    }
   ],
   "source": [
    "vgg_model.compile(loss='sparse_categorical_crossentropy', optimizer='adam', metrics=['accuracy'])\n",
    "vgg_model.fit(X_train, y_train, epochs=50, batch_size=10, validation_split=0.2, callbacks=[checkpoint])"
   ]
  },
  {
   "cell_type": "code",
   "execution_count": null,
   "metadata": {},
   "outputs": [],
   "source": [
    "vgg_model.layers[-2].output"
   ]
  },
  {
   "cell_type": "code",
   "execution_count": null,
   "metadata": {},
   "outputs": [],
   "source": []
  },
  {
   "cell_type": "code",
   "execution_count": null,
   "metadata": {},
   "outputs": [],
   "source": [
    "from keras import backend as K\n",
    "import tensorflow as tf\n",
    "\n",
    "get_fc1_output = K.function([vgg_model.layers[0].input],[vgg_model.layers[-2].output])\n",
    "\n",
    "test_sample = tf.random.uniform(shape=(1,224,224,3), minval=0, maxval=1)\n",
    "# test_sample.shape\n",
    "layer_output = get_fc1_output([test_sample])[0]\n",
    "layer_output"
   ]
  },
  {
   "cell_type": "markdown",
   "metadata": {},
   "source": []
  },
  {
   "cell_type": "code",
   "execution_count": 14,
   "metadata": {},
   "outputs": [
    {
     "name": "stdout",
     "output_type": "stream",
     "text": [
      "Model: \"model\"\n",
      "_________________________________________________________________\n",
      " Layer (type)                Output Shape              Param #   \n",
      "=================================================================\n",
      " input_1 (InputLayer)        [(None, 256, 256, 3)]     0         \n",
      "                                                                 \n",
      " block1_conv1 (Conv2D)       (None, 256, 256, 64)      1792      \n",
      "                                                                 \n",
      " block1_conv2 (Conv2D)       (None, 256, 256, 64)      36928     \n",
      "                                                                 \n",
      " block1_pool (MaxPooling2D)  (None, 128, 128, 64)      0         \n",
      "                                                                 \n",
      " block2_conv1 (Conv2D)       (None, 128, 128, 128)     73856     \n",
      "                                                                 \n",
      " block2_conv2 (Conv2D)       (None, 128, 128, 128)     147584    \n",
      "                                                                 \n",
      " block2_pool (MaxPooling2D)  (None, 64, 64, 128)       0         \n",
      "                                                                 \n",
      " block3_conv1 (Conv2D)       (None, 64, 64, 256)       295168    \n",
      "                                                                 \n",
      " block3_conv2 (Conv2D)       (None, 64, 64, 256)       590080    \n",
      "                                                                 \n",
      " block3_conv3 (Conv2D)       (None, 64, 64, 256)       590080    \n",
      "                                                                 \n",
      " block3_pool (MaxPooling2D)  (None, 32, 32, 256)       0         \n",
      "                                                                 \n",
      " block4_conv1 (Conv2D)       (None, 32, 32, 512)       1180160   \n",
      "                                                                 \n",
      " block4_conv2 (Conv2D)       (None, 32, 32, 512)       2359808   \n",
      "                                                                 \n",
      " block4_conv3 (Conv2D)       (None, 32, 32, 512)       2359808   \n",
      "                                                                 \n",
      " block4_pool (MaxPooling2D)  (None, 16, 16, 512)       0         \n",
      "                                                                 \n",
      " block5_conv1 (Conv2D)       (None, 16, 16, 512)       2359808   \n",
      "                                                                 \n",
      " block5_conv2 (Conv2D)       (None, 16, 16, 512)       2359808   \n",
      "                                                                 \n",
      " block5_conv3 (Conv2D)       (None, 16, 16, 512)       2359808   \n",
      "                                                                 \n",
      " block5_pool (MaxPooling2D)  (None, 8, 8, 512)         0         \n",
      "                                                                 \n",
      " flatten (Flatten)           (None, 32768)             0         \n",
      "                                                                 \n",
      " dense (Dense)               (None, 24)                786456    \n",
      "                                                                 \n",
      "=================================================================\n",
      "Total params: 15,501,144\n",
      "Trainable params: 786,456\n",
      "Non-trainable params: 14,714,688\n",
      "_________________________________________________________________\n"
     ]
    }
   ],
   "source": [
    "best_model = tf.keras.models.load_model('C:/Users/malik/Desktop/ASL-Aly/ASL-words-translator/training_models/weights.03-2.05')\n",
    "best_model.summary()"
   ]
  },
  {
   "cell_type": "code",
   "execution_count": 15,
   "metadata": {},
   "outputs": [
    {
     "name": "stdout",
     "output_type": "stream",
     "text": [
      "9/9 [==============================] - 21s 2s/step - loss: 2.0160 - accuracy: 0.5943\n"
     ]
    },
    {
     "data": {
      "text/plain": [
       "[2.01599383354187, 0.5943060517311096]"
      ]
     },
     "execution_count": 15,
     "metadata": {},
     "output_type": "execute_result"
    }
   ],
   "source": [
    "best_model.evaluate(X_test, y_test)"
   ]
  },
  {
   "cell_type": "code",
   "execution_count": null,
   "metadata": {},
   "outputs": [],
   "source": []
  }
 ],
 "metadata": {
  "kernelspec": {
   "display_name": "tf-asl",
   "language": "python",
   "name": "python3"
  },
  "language_info": {
   "codemirror_mode": {
    "name": "ipython",
    "version": 3
   },
   "file_extension": ".py",
   "mimetype": "text/x-python",
   "name": "python",
   "nbconvert_exporter": "python",
   "pygments_lexer": "ipython3",
   "version": "3.10.9"
  },
  "orig_nbformat": 4,
  "vscode": {
   "interpreter": {
    "hash": "17062ca204f66f718896ff35a055f4f5637bca1ea6e288aa2be1f036ecf3bc83"
   }
  }
 },
 "nbformat": 4,
 "nbformat_minor": 2
}
