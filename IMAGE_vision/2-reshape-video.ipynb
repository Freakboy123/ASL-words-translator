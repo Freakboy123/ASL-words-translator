{
 "cells": [
  {
   "attachments": {},
   "cell_type": "markdown",
   "metadata": {},
   "source": [
    "\n",
    "\n",
    "    ~copy the initial database, DON\"T MODIFY DIRECTLY.\n",
    "    *Delete videos that are not available.\n",
    "\n",
    "\n",
    "    *Process videos by cropping them based on the timestamps and rename in the the following format\n",
    "        ~Label-videoID-1\n",
    "        if there are more than 1 videos, \n",
    "        Label-videoID-2, 3, etc;\n",
    "\n",
    "\n",
    "    *Crop the width and the height of the videos based of the box coordinates provided in the dataset.\n",
    "\n",
    "\n",
    "\n"
   ]
  },
  {
   "cell_type": "code",
   "execution_count": 1,
   "metadata": {},
   "outputs": [],
   "source": [
    "import cv2\n",
    "import numpy"
   ]
  },
  {
   "attachments": {},
   "cell_type": "markdown",
   "metadata": {},
   "source": [
    "Here is the format of the videos  I am treating\n",
    "{\"org_text\": \"emotional\", \"clean_text\": \"emotional\", \"start_time\": 0.0, \"signer_id\": 20, \"signer\": 40, \"start\": 0, \"end\": 30, \"file\": \"SignSchool Emotional\", \"label\": 907, \"height\": 360.0, \"fps\": 23.976, \"end_time\": 1.251, \"url\": \"www.youtube.com/watch?v=C59jcSo4fEI\", \"text\": \"emotional\", \"box\": [0.059554219245910645, 0.2810196578502655, 1.0, 0.8543376922607422], \"width\": 640.0},\n",
    "\n",
    "{<given-word>, <start time> <>}"
   ]
  },
  {
   "cell_type": "code",
   "execution_count": null,
   "metadata": {},
   "outputs": [],
   "source": []
  }
 ],
 "metadata": {
  "kernelspec": {
   "display_name": "env",
   "language": "python",
   "name": "python3"
  },
  "language_info": {
   "codemirror_mode": {
    "name": "ipython",
    "version": 3
   },
   "file_extension": ".py",
   "mimetype": "text/x-python",
   "name": "python",
   "nbconvert_exporter": "python",
   "pygments_lexer": "ipython3",
   "version": "3.9.9"
  },
  "orig_nbformat": 4,
  "vscode": {
   "interpreter": {
    "hash": "5a1f3fb68dd2ba2ba2967be31133212ab5289cf599836f8f402dc82a3e66207d"
   }
  }
 },
 "nbformat": 4,
 "nbformat_minor": 2
}
